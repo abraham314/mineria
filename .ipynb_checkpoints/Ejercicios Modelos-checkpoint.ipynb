{
 "cells": [
  {
   "cell_type": "code",
   "execution_count": 1,
   "metadata": {
    "collapsed": true
   },
   "outputs": [],
   "source": [
    "import pandas as pd\n",
    "import numpy as np \n",
    "import matplotlib.pyplot as plt \n",
    "import seaborn as sns\n",
    "%matplotlib inline "
   ]
  },
  {
   "cell_type": "code",
   "execution_count": 4,
   "metadata": {
    "collapsed": true
   },
   "outputs": [],
   "source": [
    "def acum(base,var):\n",
    "    cum=np.zeros(len(base))\n",
    "    for i in range(len(base)):\n",
    "        if i==0:\n",
    "            cum[i]=base[var].iloc[i]\n",
    "        else:\n",
    "            cum[i]=cum[i-1]+base[var].iloc[i]\n",
    "    return(cum)"
   ]
  },
  {
   "cell_type": "code",
   "execution_count": null,
   "metadata": {
    "collapsed": true
   },
   "outputs": [],
   "source": [
    "def plot_roc(score,target,buckets):\n",
    "    data['no_target'] = 1 - data.contrata\n",
    "    # particiones\n",
    "\n",
    "    data['bucket'] = pd.qcut(data.score, buckets)\n",
    "\n",
    "    # GROUP THE DATA FRAME BY BUCKETS\n",
    "\n",
    "    grouped = data.groupby('bucket', as_index = False)\n",
    "\n",
    "    # CREATE A SUMMARY DATA FRAME\n",
    "\n",
    "    agg1 = grouped.min().score \n",
    "\n",
    "    agg1 = pd.DataFrame(grouped.min().score) \n",
    "    agg1.rename(columns={'score': 'min_scr'},inplace=True)\n",
    "                                                    \n",
    "    agg1['max_scr'] = grouped.max().score\n",
    "\n",
    "    agg1['target'] = grouped.sum().target\n",
    "\n",
    "    agg1['no_target'] = grouped.sum().no_target\n",
    "\n",
    "    agg1['total'] = agg1.target + agg1.no_target\n",
    "\n",
    "\n",
    "    # SORT THE DATA FRAME BY SCORE\n",
    "\n",
    "    agg2 = (agg1.sort_values(by = 'min_scr',ascending=False)).reset_index(drop = True)\n",
    "\n",
    "    agg2['FPR'] = (agg2.no_target / agg2.target)\n",
    "\n",
    "    agg2['event_rate'] = (agg2.target / agg2.total).apply('{0:.2%}'.format)\n",
    "\n",
    "    # CALCULATE KS STATISTIC\n",
    "\n",
    "    agg2['ks'] = np.round(((agg2.target / data.target.sum()).cumsum() - (agg2.no_target / data.no_target.sum()).cumsum()), 4) * 100\n",
    "\n",
    "    # DEFINE A FUNCTION TO FLAG MAX KS\n",
    "\n",
    "    flag = lambda x: '<----' if x == agg2.ks.max() else ''\n",
    "\n",
    "    # FLAG OUT MAX KS\n",
    "\n",
    "    agg2['max_ks'] = agg2.ks.apply(flag)\n",
    "\n",
    "\n",
    "    orig=float(agg2['target'].sum()/agg2['total'].sum()) \n",
    "\n",
    "\n",
    "\n",
    "    agg2['cumtotal']=acum(agg2,'total')\n",
    "    agg2['cum_target']=acum(agg2,'target')\n",
    "    agg2['cum_no_target']=acum(agg2,'no_target') \n",
    "    agg2['cum_FPR'] = (agg2.cum_no_target / agg2.cum_target).apply('{0:.2f}'.format) \n",
    "    agg2['cum_event_rate'] = (agg2.cum_target / agg2.cumtotal).apply('{0:.2%}'.format) \n",
    "    agg2['cum_TP'] = (agg2.cum_target / agg2['target'].sum()).apply('{0:.2%}'.format) \n",
    "    agg2['cum_FP'] = (agg2.cum_no_target / agg2['no_target'].sum()).apply('{0:.2%}'.format) \n",
    "    agg2['%Universo'] = (agg2.cumtotal / agg2.cumtotal.max()).apply('{0:.2%}'.format)\n",
    "    agg2['LIFT'] = ((agg2.cum_target / agg2.cumtotal)/orig)\n",
    "\n",
    "    agg2['Recall'] = (agg2.cum_target / agg2['target'].sum())\n",
    "    agg2['FPrate'] = (agg2.cum_no_target / agg2['no_target'].sum()) \n",
    "    agg2['%Ctes'] = (agg2.cumtotal / agg2.cumtotal.max()) \n",
    "\n",
    "           "
   ]
  },
  {
   "cell_type": "code",
   "execution_count": 3,
   "metadata": {
    "collapsed": false
   },
   "outputs": [
    {
     "data": {
      "text/plain": [
       "'no_ee'"
      ]
     },
     "execution_count": 3,
     "metadata": {},
     "output_type": "execute_result"
    }
   ],
   "source": [
    "rr='ee'\n",
    "str('no_')+str(rr)"
   ]
  },
  {
   "cell_type": "code",
   "execution_count": null,
   "metadata": {
    "collapsed": true
   },
   "outputs": [],
   "source": []
  }
 ],
 "metadata": {
  "kernelspec": {
   "display_name": "Python 3",
   "language": "python",
   "name": "python3"
  },
  "language_info": {
   "codemirror_mode": {
    "name": "ipython",
    "version": 3
   },
   "file_extension": ".py",
   "mimetype": "text/x-python",
   "name": "python",
   "nbconvert_exporter": "python",
   "pygments_lexer": "ipython3",
   "version": "3.6.0"
  }
 },
 "nbformat": 4,
 "nbformat_minor": 2
}
