{
 "cells": [
  {
   "cell_type": "markdown",
   "metadata": {},
   "source": [
    "# Pipeline 1"
   ]
  },
  {
   "cell_type": "code",
   "execution_count": 1,
   "metadata": {
    "collapsed": true
   },
   "outputs": [],
   "source": [
    "import pandas as pd\n",
    "import numpy as np\n",
    "import matplotlib.pyplot as plt\n",
    "import seaborn as sns\n",
    "%matplotlib inline"
   ]
  },
  {
   "cell_type": "code",
   "execution_count": 2,
   "metadata": {
    "collapsed": false
   },
   "outputs": [
    {
     "data": {
      "text/html": [
       "<div>\n",
       "<table border=\"1\" class=\"dataframe\">\n",
       "  <thead>\n",
       "    <tr style=\"text-align: right;\">\n",
       "      <th></th>\n",
       "      <th>age</th>\n",
       "      <th>workclass</th>\n",
       "      <th>fnlwgt</th>\n",
       "      <th>education</th>\n",
       "      <th>education_num</th>\n",
       "      <th>marital_status</th>\n",
       "      <th>ocupation</th>\n",
       "      <th>relationship</th>\n",
       "      <th>race</th>\n",
       "      <th>sex</th>\n",
       "      <th>capital_gain</th>\n",
       "      <th>capital_loss</th>\n",
       "      <th>hours_per_week</th>\n",
       "      <th>native_country</th>\n",
       "      <th>income</th>\n",
       "    </tr>\n",
       "  </thead>\n",
       "  <tbody>\n",
       "    <tr>\n",
       "      <th>0</th>\n",
       "      <td>39</td>\n",
       "      <td>State-gov</td>\n",
       "      <td>77516</td>\n",
       "      <td>Bachelors</td>\n",
       "      <td>13</td>\n",
       "      <td>Never-married</td>\n",
       "      <td>Adm-clerical</td>\n",
       "      <td>Not-in-family</td>\n",
       "      <td>White</td>\n",
       "      <td>Male</td>\n",
       "      <td>2174</td>\n",
       "      <td>0</td>\n",
       "      <td>40</td>\n",
       "      <td>United-States</td>\n",
       "      <td>&lt;=50K</td>\n",
       "    </tr>\n",
       "    <tr>\n",
       "      <th>1</th>\n",
       "      <td>50</td>\n",
       "      <td>Self-emp-not-inc</td>\n",
       "      <td>83311</td>\n",
       "      <td>Bachelors</td>\n",
       "      <td>13</td>\n",
       "      <td>Married-civ-spouse</td>\n",
       "      <td>Exec-managerial</td>\n",
       "      <td>Husband</td>\n",
       "      <td>White</td>\n",
       "      <td>Male</td>\n",
       "      <td>0</td>\n",
       "      <td>0</td>\n",
       "      <td>13</td>\n",
       "      <td>United-States</td>\n",
       "      <td>&lt;=50K</td>\n",
       "    </tr>\n",
       "    <tr>\n",
       "      <th>2</th>\n",
       "      <td>38</td>\n",
       "      <td>Private</td>\n",
       "      <td>215646</td>\n",
       "      <td>HS-grad</td>\n",
       "      <td>9</td>\n",
       "      <td>Divorced</td>\n",
       "      <td>Handlers-cleaners</td>\n",
       "      <td>Not-in-family</td>\n",
       "      <td>White</td>\n",
       "      <td>Male</td>\n",
       "      <td>0</td>\n",
       "      <td>0</td>\n",
       "      <td>40</td>\n",
       "      <td>United-States</td>\n",
       "      <td>&lt;=50K</td>\n",
       "    </tr>\n",
       "    <tr>\n",
       "      <th>3</th>\n",
       "      <td>53</td>\n",
       "      <td>Private</td>\n",
       "      <td>234721</td>\n",
       "      <td>11th</td>\n",
       "      <td>7</td>\n",
       "      <td>Married-civ-spouse</td>\n",
       "      <td>Handlers-cleaners</td>\n",
       "      <td>Husband</td>\n",
       "      <td>Black</td>\n",
       "      <td>Male</td>\n",
       "      <td>0</td>\n",
       "      <td>0</td>\n",
       "      <td>40</td>\n",
       "      <td>United-States</td>\n",
       "      <td>&lt;=50K</td>\n",
       "    </tr>\n",
       "    <tr>\n",
       "      <th>4</th>\n",
       "      <td>28</td>\n",
       "      <td>Private</td>\n",
       "      <td>338409</td>\n",
       "      <td>Bachelors</td>\n",
       "      <td>13</td>\n",
       "      <td>Married-civ-spouse</td>\n",
       "      <td>Prof-specialty</td>\n",
       "      <td>Wife</td>\n",
       "      <td>Black</td>\n",
       "      <td>Female</td>\n",
       "      <td>0</td>\n",
       "      <td>0</td>\n",
       "      <td>40</td>\n",
       "      <td>Cuba</td>\n",
       "      <td>&lt;=50K</td>\n",
       "    </tr>\n",
       "  </tbody>\n",
       "</table>\n",
       "</div>"
      ],
      "text/plain": [
       "   age         workclass  fnlwgt  education  education_num  \\\n",
       "0   39         State-gov   77516  Bachelors             13   \n",
       "1   50  Self-emp-not-inc   83311  Bachelors             13   \n",
       "2   38           Private  215646    HS-grad              9   \n",
       "3   53           Private  234721       11th              7   \n",
       "4   28           Private  338409  Bachelors             13   \n",
       "\n",
       "       marital_status          ocupation   relationship   race     sex  \\\n",
       "0       Never-married       Adm-clerical  Not-in-family  White    Male   \n",
       "1  Married-civ-spouse    Exec-managerial        Husband  White    Male   \n",
       "2            Divorced  Handlers-cleaners  Not-in-family  White    Male   \n",
       "3  Married-civ-spouse  Handlers-cleaners        Husband  Black    Male   \n",
       "4  Married-civ-spouse     Prof-specialty           Wife  Black  Female   \n",
       "\n",
       "   capital_gain  capital_loss  hours_per_week native_country income  \n",
       "0          2174             0              40  United-States  <=50K  \n",
       "1             0             0              13  United-States  <=50K  \n",
       "2             0             0              40  United-States  <=50K  \n",
       "3             0             0              40  United-States  <=50K  \n",
       "4             0             0              40           Cuba  <=50K  "
      ]
     },
     "execution_count": 2,
     "metadata": {},
     "output_type": "execute_result"
    }
   ],
   "source": [
    "import feather\n",
    "adults= feather.read_dataframe('adults.feather')\n",
    "adults.head()"
   ]
  },
  {
   "cell_type": "markdown",
   "metadata": {},
   "source": [
    "**Transforma los datos para que estén en formato scikit-learn matriz de features $X$ vector de etiquetas $y$**"
   ]
  },
  {
   "cell_type": "code",
   "execution_count": 3,
   "metadata": {
    "collapsed": false
   },
   "outputs": [
    {
     "name": "stdout",
     "output_type": "stream",
     "text": [
      "(32561, 14)\n",
      "(32561,)\n"
     ]
    }
   ],
   "source": [
    "X_ad=adults.drop('income',axis=1)\n",
    "y_ad=adults['income']\n",
    "print(X_ad.shape)\n",
    "print(y_ad.shape)"
   ]
  },
  {
   "cell_type": "markdown",
   "metadata": {},
   "source": [
    "Pasamos $X$ y $y$ en formato sklearn"
   ]
  },
  {
   "cell_type": "code",
   "execution_count": 4,
   "metadata": {
    "collapsed": false
   },
   "outputs": [
    {
     "data": {
      "text/plain": [
       "(32561, 14)"
      ]
     },
     "execution_count": 4,
     "metadata": {},
     "output_type": "execute_result"
    }
   ],
   "source": [
    "X =np.array(X_ad)\n",
    "y=np.array(y_ad).reshape(32561,1)\n",
    "X.shape"
   ]
  },
  {
   "cell_type": "markdown",
   "metadata": {},
   "source": [
    "**Separa el set en entrenamiento y pruebas 70/30**"
   ]
  },
  {
   "cell_type": "code",
   "execution_count": 5,
   "metadata": {
    "collapsed": true
   },
   "outputs": [],
   "source": [
    "from sklearn.model_selection import train_test_split\n",
    "X_train, X_test, y_train, y_test = train_test_split(X,y,test_size=.3,random_state=51556)"
   ]
  },
  {
   "cell_type": "markdown",
   "metadata": {},
   "source": [
    "**Separa el set de entrenamiento para obtener uno de validación del 8% del de training -ocupa como semilla la matrícula más chica de tu equipo**"
   ]
  },
  {
   "cell_type": "code",
   "execution_count": 6,
   "metadata": {
    "collapsed": false
   },
   "outputs": [],
   "source": [
    "X_train, X_val, y_train, y_val = train_test_split(X_train,y_train,test_size=.08,random_state=51556)"
   ]
  },
  {
   "cell_type": "markdown",
   "metadata": {},
   "source": [
    "**Transformación de variables -si necesitas alguna-**\n",
    "\n",
    "Vamos a standarizar las variables numéricas para que tengan la misma escala y vamos a hacer variables dummies con las categóricas, para que pasen todas las variables como numéricas.\n",
    "\n",
    "Creamos una clase para seleccionar las features de nuestro interés y después poder dividirlos en features numéricos y categóricos.\n",
    "\n",
    "fuente:https://stackoverflow.com/questions/25250654/how-can-i-use-a-custom-feature-selection-function-in-scikit-learns-pipeline"
   ]
  },
  {
   "cell_type": "code",
   "execution_count": 7,
   "metadata": {
    "collapsed": false
   },
   "outputs": [],
   "source": [
    "from sklearn.preprocessing import StandardScaler,LabelEncoder,FunctionTransformer,OneHotEncoder\n",
    "from sklearn.pipeline import make_pipeline \n",
    "from sklearn.pipeline import FeatureUnion\n",
    "from sklearn.pipeline import Pipeline\n",
    "class ColumnExtractor(object):\n",
    "\n",
    "    def __init__(self, cols):\n",
    "        self.cols = cols\n",
    "\n",
    "    def transform(self, X):\n",
    "        col_list = []\n",
    "        for c in self.cols:\n",
    "            col_list.append(X[:, c:c+1])\n",
    "        return np.concatenate(col_list, axis=1)\n",
    "\n",
    "    def fit(self, X, y=None):\n",
    "        return self"
   ]
  },
  {
   "cell_type": "markdown",
   "metadata": {},
   "source": [
    "Hacemos una segunda función para hacer un multilabel encoder, esto se hace ya que labelencoder no funciona para múltiples columnas, entonces es necsario hacer una función que lo haga.\n",
    "\n",
    "Este programa se modificó para ajustarlo a nuestos datos.\n",
    "fuente: https://stackoverflow.com/questions/24458645/label-encoding-across-multiple-columns-in-scikit-learn"
   ]
  },
  {
   "cell_type": "code",
   "execution_count": 8,
   "metadata": {
    "collapsed": true
   },
   "outputs": [],
   "source": [
    "class MultiColumnLabelEncoder:\n",
    "    def __init__(self,columns = None):\n",
    "        self.columns = columns # array of column names to encode\n",
    "\n",
    "    def fit(self,X,y=None):\n",
    "        return self # not relevant here\n",
    "\n",
    "    def transform(self,X):\n",
    "        '''\n",
    "        Transforms columns of X specified in self.columns using\n",
    "        LabelEncoder(). If no columns specified, transforms all\n",
    "        columns in X.\n",
    "        '''\n",
    "        output = X.copy()\n",
    "        if self.columns is not None:\n",
    "            for col in self.columns:\n",
    "                #print(col)\n",
    "                output[:,col] = LabelEncoder().fit_transform(output[:,col])\n",
    "        #else:\n",
    "        #    for colname,col in output.iteritems():\n",
    "         #       output[colname] = LabelEncoder().fit_transform(col)\n",
    "        return output\n",
    "\n",
    "    def fit_transform(self,X,y=None):\n",
    "        return self.fit(X,y).transform(X)"
   ]
  },
  {
   "cell_type": "markdown",
   "metadata": {},
   "source": [
    "Para tratar un Dataframe con datos mezclados vamos a hacer escalamiento de la variables numéricas y labelencoder o codificación de las categóricas.\n",
    "\n",
    "Vamos a definir nuestra función FCB_filtering para después ocuparla en el pipeline.\n",
    "\n",
    "**Feature engineering: Utiliza tu función FCB_filtering() para seleccionar las variables con mayor correlación a la variable target**"
   ]
  },
  {
   "cell_type": "code",
   "execution_count": 9,
   "metadata": {
    "collapsed": false
   },
   "outputs": [],
   "source": [
    "\n",
    "#Hacemos diccionario de variables dado que la función FCB trabaja con dataframes necesitaremos un array \n",
    "#de salida y así ligar las variables a la columna correspondiente del array.\n",
    "my_dict = {'age' : 0, 'fnlwgt' : 1,'education_num' : 2, 'capital_gain' : 3,'capital_loss' : 4,\n",
    "           'hours_per_week' : 5,'workclass' : 6, 'education' : 7,\n",
    "          'marital_status' : 8, 'occupation' : 9,'relationship' : 10, 'race' : 11,'sex' : 12, \n",
    "           'native_country' : 13}\n",
    "\n",
    "#Función para eliminar variables correlacionadas basado en que estas se relacionan con la variable target\n",
    "#umbral de correlación default=|.2|\n",
    "def FCB_filtering(X,umbral=.21,target='income'):#la función regresa la lista de variables a conservar ojo!\n",
    "    if len(X)==len(X_train):\n",
    "        y=y_train \n",
    "    elif(len(X)==len(X_val)):\n",
    "        y=y_val\n",
    "        \n",
    "    else:\n",
    "        y=y_test\n",
    "\n",
    "    \n",
    "    \n",
    "    \n",
    "    num=list(adults.select_dtypes(['float64','int32']))\n",
    "    nom=list(adults.select_dtypes(['object']).drop(target,axis=1,inplace=False))\n",
    "    varib=num+nom\n",
    "\n",
    "    df=pd.DataFrame(X,columns=varib)\n",
    "    df[target]=LabelEncoder().fit_transform(y)\n",
    "    #df[target]=df[target].apply(lambda x: 1.0 if x==\">50K\" else 0.0)\n",
    "\n",
    "    kp=[]\n",
    "    nmkp=[]\n",
    "    features=[x for x in list(df) if not (x==target)]\n",
    "    numf=1\n",
    "    aux=df\n",
    "    while(numf>0):#mientras tengamos una lista de variables correlacionadas econ el target...\n",
    "        dfc=aux[features].corr()#hacemos la matriz de correlaciones de las variables distintas del target\n",
    "    \n",
    "        tabcor=pd.DataFrame(features,columns=[['variable']])\n",
    "        tabcor['correlacion']=0#creamos un dataframe con una columna donde llenaremos la correlación de\n",
    "        #de las variables vs. el target\n",
    "        j=0\n",
    "        for i in tabcor['variable']:\n",
    "            tabcor['correlacion'].iloc[j]=np.corrcoef(aux[i], aux[target])[1][0]#correlación de variables y target\n",
    "            j=j+1\n",
    "        tabcor['abscor']=abs(tabcor['correlacion'])#creamos correlaciones en valor absoluto para ordenar\n",
    "        #las variables más correlacionadas con el target positiva o negativamente\n",
    "        tabcor.sort_values(by='correlacion',ascending=False) \n",
    "        ax = plt.axes()\n",
    "        sns.barplot(y='variable',x='correlacion',data=tabcor.sort_values(by='correlacion',ascending=False))\n",
    "        ax.set_title('Correlación variables con el target')\n",
    "        plt.show()#graficamos las correlaciones vs. el target en cada paso\n",
    "        sal=tabcor.sort_values(by='abscor',ascending=False)\n",
    "        sal=sal[abs(sal['abscor'])>umbral]\n",
    "        numf=len(sal)\n",
    "        \n",
    "        if numf>0:\n",
    "            \n",
    "            maxvar=sal['variable'].iloc[0]#tomamos la variable con mayor correlación\n",
    "            kp.append(my_dict[maxvar])\n",
    "            nmkp.append(maxvar)\n",
    "            ll=dfc[abs(dfc[maxvar])>umbral][maxvar].index\n",
    "            #ll=ll[ll!=maxvar]\n",
    "            print(' tira ',ll[ll!=maxvar])\n",
    "            print(sal)\n",
    "            aux=aux.drop(ll, axis=1, inplace=False)#borramos las variables más corelacionadas con nuestra\n",
    "            #variable número1(la más correlacionada con el target)\n",
    "            features=[x for x in list(aux) if not (x==target)]#quitamos las variables correlacionadas incluyendo\n",
    "            #la variable de referencia para dar paso a la siguiente de la lista.\n",
    "    print('las variables seleccionadas son:',nmkp)\n",
    "    return(X[:,kp])"
   ]
  },
  {
   "cell_type": "markdown",
   "metadata": {},
   "source": [
    "Hacemos un pipeline con feature union para juntar las variables numéricas escaladas y las categoricas codificadas, y al final aplicar FCB_filtring para tener sólo las variables finales con las que nos quedaremos.\n"
   ]
  },
  {
   "cell_type": "code",
   "execution_count": 10,
   "metadata": {
    "collapsed": false
   },
   "outputs": [
    {
     "name": "stderr",
     "output_type": "stream",
     "text": [
      "/home/abraham/anaconda3/lib/python3.6/site-packages/sklearn/utils/validation.py:444: DataConversionWarning: Data with input dtype object was converted to float64 by StandardScaler.\n",
      "  warnings.warn(msg, DataConversionWarning)\n",
      "/home/abraham/anaconda3/lib/python3.6/site-packages/sklearn/preprocessing/label.py:111: DataConversionWarning: A column-vector y was passed when a 1d array was expected. Please change the shape of y to (n_samples, ), for example using ravel().\n",
      "  y = column_or_1d(y, warn=True)\n",
      "/home/abraham/anaconda3/lib/python3.6/site-packages/pandas/core/indexing.py:141: SettingWithCopyWarning: \n",
      "A value is trying to be set on a copy of a slice from a DataFrame\n",
      "\n",
      "See the caveats in the documentation: http://pandas.pydata.org/pandas-docs/stable/indexing.html#indexing-view-versus-copy\n",
      "  self._setitem_with_indexer(indexer, value)\n"
     ]
    },
    {
     "data": {
      "image/png": "[encoded data removed]",
      "text/plain": [
       "<matplotlib.figure.Figure at 0x7f2552fe84a8>"
      ]
     },
     "metadata": {},
     "output_type": "display_data"
    },
    {
     "name": "stdout",
     "output_type": "stream",
     "text": [
      " tira  Index(['education'], dtype='object')\n",
      "          variable  correlacion    abscor\n",
      "2    education_num     0.335222  0.335222\n",
      "10    relationship    -0.245576  0.245576\n",
      "0              age     0.233656  0.233656\n",
      "5   hours_per_week     0.228013  0.228013\n",
      "3     capital_gain     0.221988  0.221988\n",
      "12             sex     0.212999  0.212999\n"
     ]
    },
    {
     "data": {
      "image/png": "[encoded data removed]",
      "text/plain": [
       "<matplotlib.figure.Figure at 0x7f255190f748>"
      ]
     },
     "metadata": {},
     "output_type": "display_data"
    },
    {
     "name": "stdout",
     "output_type": "stream",
     "text": [
      " tira  Index(['age', 'hours_per_week', 'sex'], dtype='object')\n",
      "          variable  correlacion    abscor\n",
      "8     relationship    -0.245576  0.245576\n",
      "0              age     0.233656  0.233656\n",
      "4   hours_per_week     0.228013  0.228013\n",
      "2     capital_gain     0.221988  0.221988\n",
      "10             sex     0.212999  0.212999\n"
     ]
    },
    {
     "data": {
      "image/png": "[encoded data removed]",
      "text/plain": [
       "<matplotlib.figure.Figure at 0x7f254be96358>"
      ]
     },
     "metadata": {},
     "output_type": "display_data"
    },
    {
     "name": "stdout",
     "output_type": "stream",
     "text": [
      " tira  Index([], dtype='object')\n",
      "       variable  correlacion    abscor\n",
      "1  capital_gain     0.221988  0.221988\n"
     ]
    },
    {
     "data": {
      "image/png": "[encoded data removed]",
      "text/plain": [
       "<matplotlib.figure.Figure at 0x7f2551900390>"
      ]
     },
     "metadata": {},
     "output_type": "display_data"
    },
    {
     "name": "stdout",
     "output_type": "stream",
     "text": [
      "las variables seleccionadas son: ['education_num', 'relationship', 'capital_gain']\n"
     ]
    }
   ],
   "source": [
    "pipeline = Pipeline([\n",
    "    ('features', FeatureUnion([\n",
    "        ('continuous',Pipeline([(\"nums\", ColumnExtractor(cols=(0,2,4,10,11,12))), (\"sc\",StandardScaler())])),\n",
    "        ('factors',Pipeline([(\"cat\", ColumnExtractor(cols=(1, 3, 5, 6, 7, 8, 9,13))), \n",
    "                             (\"oe\",MultiColumnLabelEncoder(columns=(0,1,2,3,4,5,6,7)))])\n",
    ")])),('func', FunctionTransformer(FCB_filtering))])\n",
    "trX_train=pipeline.fit_transform(X_train).astype('float64')"
   ]
  },
  {
   "cell_type": "code",
   "execution_count": 11,
   "metadata": {
    "collapsed": false
   },
   "outputs": [
    {
     "data": {
      "text/plain": [
       "array([[ 1.12836113,  0.        , -0.14504331],\n",
       "       [-0.42254601,  0.        , -0.14504331],\n",
       "       [-0.42254601,  3.        , -0.14504331],\n",
       "       ..., \n",
       "       [-0.03481923,  3.        , -0.14504331],\n",
       "       [-0.42254601,  4.        , -0.14504331],\n",
       "       [-0.03481923,  0.        , -0.14504331]])"
      ]
     },
     "execution_count": 11,
     "metadata": {},
     "output_type": "execute_result"
    }
   ],
   "source": [
    "#array final con las variables seleccionadas\n",
    "trX_train"
   ]
  },
  {
   "cell_type": "code",
   "execution_count": 12,
   "metadata": {
    "collapsed": false
   },
   "outputs": [
    {
     "name": "stderr",
     "output_type": "stream",
     "text": [
      "/home/abraham/anaconda3/lib/python3.6/site-packages/sklearn/utils/validation.py:444: DataConversionWarning: Data with input dtype object was converted to float64 by StandardScaler.\n",
      "  warnings.warn(msg, DataConversionWarning)\n",
      "/home/abraham/anaconda3/lib/python3.6/site-packages/sklearn/preprocessing/label.py:111: DataConversionWarning: A column-vector y was passed when a 1d array was expected. Please change the shape of y to (n_samples, ), for example using ravel().\n",
      "  y = column_or_1d(y, warn=True)\n",
      "/home/abraham/anaconda3/lib/python3.6/site-packages/pandas/core/indexing.py:141: SettingWithCopyWarning: \n",
      "A value is trying to be set on a copy of a slice from a DataFrame\n",
      "\n",
      "See the caveats in the documentation: http://pandas.pydata.org/pandas-docs/stable/indexing.html#indexing-view-versus-copy\n",
      "  self._setitem_with_indexer(indexer, value)\n"
     ]
    },
    {
     "data": {
      "image/png": "[encoded data removed]",
      "text/plain": [
       "<matplotlib.figure.Figure at 0x7f254bf42d68>"
      ]
     },
     "metadata": {},
     "output_type": "display_data"
    },
    {
     "name": "stdout",
     "output_type": "stream",
     "text": [
      " tira  Index(['education'], dtype='object')\n",
      "          variable  correlacion    abscor\n",
      "2    education_num     0.330872  0.330872\n",
      "10    relationship    -0.260556  0.260556\n",
      "0              age     0.234781  0.234781\n",
      "5   hours_per_week     0.231496  0.231496\n",
      "3     capital_gain     0.223881  0.223881\n",
      "12             sex     0.222084  0.222084\n"
     ]
    },
    {
     "data": {
      "image/png": "[encoded data removed]",
      "text/plain": [
       "<matplotlib.figure.Figure at 0x7f254bf4ae80>"
      ]
     },
     "metadata": {},
     "output_type": "display_data"
    },
    {
     "name": "stdout",
     "output_type": "stream",
     "text": [
      " tira  Index(['age', 'hours_per_week', 'sex'], dtype='object')\n",
      "          variable  correlacion    abscor\n",
      "8     relationship    -0.260556  0.260556\n",
      "0              age     0.234781  0.234781\n",
      "4   hours_per_week     0.231496  0.231496\n",
      "2     capital_gain     0.223881  0.223881\n",
      "10             sex     0.222084  0.222084\n"
     ]
    },
    {
     "data": {
      "image/png": "[encoded data removed]",
      "text/plain": [
       "<matplotlib.figure.Figure at 0x7f254beadf98>"
      ]
     },
     "metadata": {},
     "output_type": "display_data"
    },
    {
     "name": "stdout",
     "output_type": "stream",
     "text": [
      " tira  Index([], dtype='object')\n",
      "       variable  correlacion    abscor\n",
      "1  capital_gain     0.223881  0.223881\n"
     ]
    },
    {
     "data": {
      "image/png": "[encoded data removed]",
      "text/plain": [
       "<matplotlib.figure.Figure at 0x7f25518d9dd8>"
      ]
     },
     "metadata": {},
     "output_type": "display_data"
    },
    {
     "name": "stdout",
     "output_type": "stream",
     "text": [
      "las variables seleccionadas son: ['education_num', 'relationship', 'capital_gain']\n"
     ]
    }
   ],
   "source": [
    "trx_test=pipeline.transform(X_test).astype('float64')"
   ]
  },
  {
   "cell_type": "code",
   "execution_count": null,
   "metadata": {
    "collapsed": true
   },
   "outputs": [],
   "source": []
  },
  {
   "cell_type": "markdown",
   "metadata": {},
   "source": [
    "# Pipeline2"
   ]
  },
  {
   "cell_type": "markdown",
   "metadata": {},
   "source": [
    "**Genera tu MagicLoop ocupando un RandomForest y un árbol para realizar la clasificación de income \n",
    "Prueba con los siguientes hiperparámetros utilizando el algoritmo GridSearch $\\rightarrow$ NO se te olvide hacer cross-validation!!!\n",
    "RandomForest: número de árboles: 500, 700, 800, 1000\n",
    "número de árboles: 500, 700, 800, 1000\n",
    "mtry: 3, 4, 5, 6, 7\n",
    "nodesize: 7, 11, 13, 15\n",
    "Árboles:\n",
    "nodesize: 7, 11, 13, 15**\n",
    "\n",
    "Definimos primero la función que va a tomar los hiperparámetros y los modelos a probar en este caso un árbol y un random forest"
   ]
  },
  {
   "cell_type": "code",
   "execution_count": 30,
   "metadata": {
    "collapsed": false
   },
   "outputs": [],
   "source": [
    "from sklearn.grid_search import GridSearchCV\n",
    "from sklearn.tree import DecisionTreeClassifier\n",
    "from sklearn.ensemble import RandomForestClassifier\n",
    "from sklearn.metrics import roc_auc_score, auc,precision_recall_curve\n",
    "from sklearn.metrics import roc_curve,average_precision_score,precision_score"
   ]
  },
  {
   "cell_type": "code",
   "execution_count": 44,
   "metadata": {
    "collapsed": false
   },
   "outputs": [
    {
     "ename": "TypeError",
     "evalue": "All intermediate steps should be transformers and implement fit and transform. 'DecisionTreeClassifier(class_weight=None, criterion='gini', max_depth=None,\n            max_features=None, max_leaf_nodes=None,\n            min_impurity_decrease=0.0, min_impurity_split=None,\n            min_samples_leaf=1, min_samples_split=2,\n            min_weight_fraction_leaf=0.0, presort=False, random_state=None,\n            splitter='best')' (type <class 'sklearn.tree.tree.DecisionTreeClassifier'>) doesn't",
     "output_type": "error",
     "traceback": [
      "\u001b[0;31m---------------------------------------------------------------------------\u001b[0m",
      "\u001b[0;31mTypeError\u001b[0m                                 Traceback (most recent call last)",
      "\u001b[0;32m<ipython-input-44-e9835e0da891>\u001b[0m in \u001b[0;36m<module>\u001b[0;34m()\u001b[0m\n\u001b[1;32m      7\u001b[0m grid2=GridSearchCV(DecisionTreeClassifier(), param_grid={'min_samples_split': [7, 11, 13, 15]}\n\u001b[1;32m      8\u001b[0m              ,scoring='f1',n_jobs=-1,verbose=3,cv=10)\n\u001b[0;32m----> 9\u001b[0;31m \u001b[0mpipx\u001b[0m\u001b[0;34m=\u001b[0m\u001b[0mPipeline\u001b[0m\u001b[0;34m(\u001b[0m\u001b[0;34m[\u001b[0m\u001b[0;34m(\u001b[0m\u001b[0;34m\"RF\"\u001b[0m\u001b[0;34m,\u001b[0m \u001b[0mDecisionTreeClassifier\u001b[0m\u001b[0;34m(\u001b[0m\u001b[0;34m)\u001b[0m\u001b[0;34m)\u001b[0m\u001b[0;34m,\u001b[0m \u001b[0;34m(\u001b[0m\u001b[0;34m\"dt\"\u001b[0m\u001b[0;34m,\u001b[0m \u001b[0mDecisionTreeClassifier\u001b[0m\u001b[0;34m(\u001b[0m\u001b[0;34m)\u001b[0m\u001b[0;34m)\u001b[0m\u001b[0;34m]\u001b[0m\u001b[0;34m)\u001b[0m\u001b[0;34m\u001b[0m\u001b[0m\n\u001b[0m",
      "\u001b[0;32m/home/abraham/anaconda3/lib/python3.6/site-packages/sklearn/pipeline.py\u001b[0m in \u001b[0;36m__init__\u001b[0;34m(self, steps, memory)\u001b[0m\n\u001b[1;32m    114\u001b[0m         \u001b[0;31m# shallow copy of steps\u001b[0m\u001b[0;34m\u001b[0m\u001b[0;34m\u001b[0m\u001b[0m\n\u001b[1;32m    115\u001b[0m         \u001b[0mself\u001b[0m\u001b[0;34m.\u001b[0m\u001b[0msteps\u001b[0m \u001b[0;34m=\u001b[0m \u001b[0mtosequence\u001b[0m\u001b[0;34m(\u001b[0m\u001b[0msteps\u001b[0m\u001b[0;34m)\u001b[0m\u001b[0;34m\u001b[0m\u001b[0m\n\u001b[0;32m--> 116\u001b[0;31m         \u001b[0mself\u001b[0m\u001b[0;34m.\u001b[0m\u001b[0m_validate_steps\u001b[0m\u001b[0;34m(\u001b[0m\u001b[0;34m)\u001b[0m\u001b[0;34m\u001b[0m\u001b[0m\n\u001b[0m\u001b[1;32m    117\u001b[0m         \u001b[0mself\u001b[0m\u001b[0;34m.\u001b[0m\u001b[0mmemory\u001b[0m \u001b[0;34m=\u001b[0m \u001b[0mmemory\u001b[0m\u001b[0;34m\u001b[0m\u001b[0m\n\u001b[1;32m    118\u001b[0m \u001b[0;34m\u001b[0m\u001b[0m\n",
      "\u001b[0;32m/home/abraham/anaconda3/lib/python3.6/site-packages/sklearn/pipeline.py\u001b[0m in \u001b[0;36m_validate_steps\u001b[0;34m(self)\u001b[0m\n\u001b[1;32m    162\u001b[0m                 raise TypeError(\"All intermediate steps should be \"\n\u001b[1;32m    163\u001b[0m                                 \u001b[0;34m\"transformers and implement fit and transform.\"\u001b[0m\u001b[0;34m\u001b[0m\u001b[0m\n\u001b[0;32m--> 164\u001b[0;31m                                 \" '%s' (type %s) doesn't\" % (t, type(t)))\n\u001b[0m\u001b[1;32m    165\u001b[0m \u001b[0;34m\u001b[0m\u001b[0m\n\u001b[1;32m    166\u001b[0m         \u001b[0;31m# We allow last estimator to be None as an identity transformation\u001b[0m\u001b[0;34m\u001b[0m\u001b[0;34m\u001b[0m\u001b[0m\n",
      "\u001b[0;31mTypeError\u001b[0m: All intermediate steps should be transformers and implement fit and transform. 'DecisionTreeClassifier(class_weight=None, criterion='gini', max_depth=None,\n            max_features=None, max_leaf_nodes=None,\n            min_impurity_decrease=0.0, min_impurity_split=None,\n            min_samples_leaf=1, min_samples_split=2,\n            min_weight_fraction_leaf=0.0, presort=False, random_state=None,\n            splitter='best')' (type <class 'sklearn.tree.tree.DecisionTreeClassifier'>) doesn't"
     ]
    }
   ],
   "source": [
    "grid1=GridSearchCV(RandomForestClassifier(n_jobs=-1), param_grid={'n_estimators': [500, 700, 800, 1000],\n",
    "                'min_samples_split': [7, 11, 13, 15],\n",
    "                'max_features': ['auto','log2']\n",
    "         }\n",
    "             ,scoring='f1',n_jobs=-1,verbose=3,cv=10)\n",
    "\n",
    "grid2=GridSearchCV(DecisionTreeClassifier(), param_grid={'min_samples_split': [7, 11, 13, 15]}\n",
    "             ,scoring='f1',n_jobs=-1,verbose=3,cv=10)\n",
    "pipx=Pipeline([(\"RF\", DecisionTreeClassifier()), (\"dt\", DecisionTreeClassifier())])"
   ]
  },
  {
   "cell_type": "code",
   "execution_count": 15,
   "metadata": {
    "collapsed": true
   },
   "outputs": [],
   "source": [
    "def define_hyper_params():\n",
    "    \"\"\"\n",
    "        Esta función devuelve un diccionario con\n",
    "        los clasificadores que vamos a utilizar y\n",
    "        una rejilla de hiperparámetros\n",
    "    \"\"\"\n",
    "    ## Por ejemplo\n",
    "    \n",
    "    classifiers = {\n",
    "         'RF': RandomForestClassifier(n_jobs=-1),'DT': DecisionTreeClassifier()\n",
    "     }\n",
    "\n",
    "    grid = {\n",
    "         'RF': {'n_estimators': [500, 700, 800, 1000],\n",
    "                'min_samples_split': [7, 11, 13, 15],\n",
    "                'max_features': ['auto','log2']\n",
    "         },'DT': {'min_samples_split': [7, 11, 13, 15]}\n",
    "     }\n",
    "\n",
    "    return (classifiers, grid)"
   ]
  },
  {
   "cell_type": "markdown",
   "metadata": {},
   "source": [
    "Función magic_loop regresa los mejores parámetros para cada modelo a probar, en este caso un Random Forest y un árbol."
   ]
  },
  {
   "cell_type": "code",
   "execution_count": 16,
   "metadata": {
    "collapsed": false
   },
   "outputs": [],
   "source": [
    "def magic_loop(X, y,models_to_run=['RF','DT']):\n",
    "    y=LabelEncoder().fit_transform(y)\n",
    "    grd=[]\n",
    "    bs=[]\n",
    "    clfs,grid=define_hyper_params()\n",
    "    #for n in range(1, 2):\n",
    "    #    X_train, X_test, y_train, y_test = train_test_split(X, y, test_size=0.2, random_state=0)\n",
    "    for index, clf in enumerate([clfs[x] for x in models_to_run]):\n",
    "            #logging.debug(models_to_run[index])\n",
    "        parameter_values = grid[models_to_run[index]]\n",
    "            \n",
    "                \n",
    "        g=GridSearchCV(clf, param_grid=parameter_values,scoring='f1',n_jobs=-1,verbose=3,cv=10)\n",
    "\n",
    "        g.fit(X,y) \n",
    "        grd.append(g.best_params_)\n",
    "        bs.append(g.best_score_)\n",
    "        \n",
    "    mypars=grd[0]\n",
    "    mypars2=grd[1]    \n",
    "        \n",
    "    if bs[0]>bs[1]:\n",
    "        win=RandomForestClassifier(max_features=mypars['max_features'], min_samples_split=mypars['min_samples_split'],\n",
    "                          n_estimators=mypars['n_estimators'])\n",
    "    else:\n",
    "        win=DecisionTreeClassifier(min_samples_split=mypars2['min_samples_split'])\n",
    "        \n",
    "    win.fit(X,y)    \n",
    "        \n",
    "    fpr, tpr, thresholds=roc_curve(y_test,win.predict_proba(trx_test)[:,1],pos_label='>50K')\n",
    "    win_auc=auc(fpr,tpr)\n",
    "    plt.figure()\n",
    "    plt.plot(fpr, tpr, label='ROC win (area = %0.2f)' % win_auc)\n",
    "    plt.plot([0, 1], [0, 1], 'k--')\n",
    "    plt.xlim([0.0, 1.0])\n",
    "    plt.ylim([0.0, 1.05])\n",
    "    plt.xlabel('False Positive Rate')\n",
    "    plt.ylabel('True Positive Rate')\n",
    "    plt.title('Receiver operating characteristic example')\n",
    "    plt.legend(loc=\"lower right\")\n",
    "    plt.show()\n",
    "    \n",
    "    \n",
    "    precision, recall, _ = precision_recall_curve(y_test, win.predict_proba(trx_test)[:,1],pos_label='>50K')\n",
    "\n",
    "    plt.step(recall, precision, color='b', alpha=0.2,\n",
    "         where='post')\n",
    "    plt.fill_between(recall, precision, step='post', alpha=0.2,\n",
    "                 color='b')\n",
    "\n",
    "    plt.xlabel('Recall')\n",
    "    plt.ylabel('Precision')\n",
    "    plt.ylim([0.0, 1.05])\n",
    "    plt.xlim([0.0, 1.0])\n",
    "    plt.title('Precision-Recall curve')\n",
    "    plt.show()\n",
    "\n",
    "\n",
    "\n",
    "    yy=LabelEncoder().fit_transform(y_test) \n",
    "    xx=win.predict_proba(trx_test)[:,1]\n",
    "    x1=xx[np.where(yy==1)]\n",
    "    x2=xx[np.where(yy==0)]\n",
    "    plt.hist([x1, x2], color=['r','b'], alpha=0.5,normed=True,histtype='stepfilled')\n",
    "    plt.show()\n",
    "    \n",
    "    print('Mejor modelo fue:' ,win)\n",
    "    return(win)       "
   ]
  },
  {
   "cell_type": "code",
   "execution_count": 17,
   "metadata": {
    "collapsed": false
   },
   "outputs": [
    {
     "name": "stdout",
     "output_type": "stream",
     "text": [
      "Fitting 10 folds for each of 32 candidates, totalling 320 fits\n"
     ]
    },
    {
     "name": "stderr",
     "output_type": "stream",
     "text": [
      "/home/abraham/anaconda3/lib/python3.6/site-packages/sklearn/preprocessing/label.py:111: DataConversionWarning: A column-vector y was passed when a 1d array was expected. Please change the shape of y to (n_samples, ), for example using ravel().\n",
      "  y = column_or_1d(y, warn=True)\n"
     ]
    },
    {
     "name": "stdout",
     "output_type": "stream",
     "text": [
      "[CV] max_features=auto, min_samples_split=7, n_estimators=500 ........\n",
      "[CV] max_features=auto, min_samples_split=7, n_estimators=500 ........\n",
      "[CV] max_features=auto, min_samples_split=7, n_estimators=500 ........\n",
      "[CV] max_features=auto, min_samples_split=7, n_estimators=500 ........\n",
      "[CV] max_features=auto, min_samples_split=7, n_estimators=500 ........\n",
      "[CV] max_features=auto, min_samples_split=7, n_estimators=500 ........\n",
      "[CV] max_features=auto, min_samples_split=7, n_estimators=500 ........\n",
      "[CV] max_features=auto, min_samples_split=7, n_estimators=500 ........\n",
      "[CV]  max_features=auto, min_samples_split=7, n_estimators=500, score=0.671964 -   4.5s\n",
      "[CV] max_features=auto, min_samples_split=7, n_estimators=500 ........\n",
      "[CV]  max_features=auto, min_samples_split=7, n_estimators=500, score=0.632558 -   4.5s\n",
      "[CV] max_features=auto, min_samples_split=7, n_estimators=500 ........\n",
      "[CV]  max_features=auto, min_samples_split=7, n_estimators=500, score=0.635641 -   4.6s\n",
      "[CV]  max_features=auto, min_samples_split=7, n_estimators=500, score=0.622222 -   4.6s\n",
      "[CV] max_features=auto, min_samples_split=7, n_estimators=700 ........\n",
      "[CV] max_features=auto, min_samples_split=7, n_estimators=700 ........\n",
      "[CV]  max_features=auto, min_samples_split=7, n_estimators=500, score=0.667418 -   4.6s\n",
      "[CV] max_features=auto, min_samples_split=7, n_estimators=700 ........\n",
      "[CV]  max_features=auto, min_samples_split=7, n_estimators=500, score=0.579070 -   4.7s\n",
      "[CV] max_features=auto, min_samples_split=7, n_estimators=700 ........\n",
      "[CV]  max_features=auto, min_samples_split=7, n_estimators=500, score=0.633754 -   4.7s\n",
      "[CV] max_features=auto, min_samples_split=7, n_estimators=700 ........\n",
      "[CV]  max_features=auto, min_samples_split=7, n_estimators=500, score=0.639080 -   4.8s\n",
      "[CV] max_features=auto, min_samples_split=7, n_estimators=700 ........\n",
      "[CV]  max_features=auto, min_samples_split=7, n_estimators=500, score=0.591017 -   4.0s\n",
      "[CV] max_features=auto, min_samples_split=7, n_estimators=700 ........\n",
      "[CV]  max_features=auto, min_samples_split=7, n_estimators=500, score=0.645614 -   4.8s\n",
      "[CV] max_features=auto, min_samples_split=7, n_estimators=700 ........\n",
      "[CV]  max_features=auto, min_samples_split=7, n_estimators=700, score=0.639080 -   6.4s\n",
      "[CV] max_features=auto, min_samples_split=7, n_estimators=700 ........\n",
      "[CV]  max_features=auto, min_samples_split=7, n_estimators=700, score=0.671964 -   6.2s\n",
      "[CV] max_features=auto, min_samples_split=7, n_estimators=700 ........\n",
      "[CV]  max_features=auto, min_samples_split=7, n_estimators=700, score=0.632558 -   6.3s\n",
      "[CV] max_features=auto, min_samples_split=7, n_estimators=800 ........\n",
      "[CV]  max_features=auto, min_samples_split=7, n_estimators=700, score=0.637188 -   6.5s\n",
      "[CV] max_features=auto, min_samples_split=7, n_estimators=800 ........\n",
      "[CV]  max_features=auto, min_samples_split=7, n_estimators=700, score=0.578397 -   6.7s\n",
      "[CV]  max_features=auto, min_samples_split=7, n_estimators=700, score=0.622222 -   6.7s\n",
      "[CV] max_features=auto, min_samples_split=7, n_estimators=800 ........\n",
      "[CV] max_features=auto, min_samples_split=7, n_estimators=800 ........\n"
     ]
    },
    {
     "name": "stderr",
     "output_type": "stream",
     "text": [
      "[Parallel(n_jobs=-1)]: Done  16 tasks      | elapsed:   11.6s\n"
     ]
    },
    {
     "name": "stdout",
     "output_type": "stream",
     "text": [
      "[CV]  max_features=auto, min_samples_split=7, n_estimators=700, score=0.635321 -   6.7s\n",
      "[CV] max_features=auto, min_samples_split=7, n_estimators=800 ........\n",
      "[CV]  max_features=auto, min_samples_split=7, n_estimators=700, score=0.668919 -   6.4s\n",
      "[CV] max_features=auto, min_samples_split=7, n_estimators=800 ........\n",
      "[CV]  max_features=auto, min_samples_split=7, n_estimators=700, score=0.589349 -   5.3s\n",
      "[CV] max_features=auto, min_samples_split=7, n_estimators=800 ........\n",
      "[CV]  max_features=auto, min_samples_split=7, n_estimators=700, score=0.645614 -   5.6s\n",
      "[CV] max_features=auto, min_samples_split=7, n_estimators=800 ........\n",
      "[CV]  max_features=auto, min_samples_split=7, n_estimators=800, score=0.637188 -   5.9s\n",
      "[CV] max_features=auto, min_samples_split=7, n_estimators=800 ........\n",
      "[CV]  max_features=auto, min_samples_split=7, n_estimators=800, score=0.637514 -   6.7s\n",
      "[CV] max_features=auto, min_samples_split=7, n_estimators=800 ........\n",
      "[CV]  max_features=auto, min_samples_split=7, n_estimators=800, score=0.632558 -   7.4s\n",
      "[CV] max_features=auto, min_samples_split=7, n_estimators=1000 .......\n",
      "[CV]  max_features=auto, min_samples_split=7, n_estimators=800, score=0.671964 -   7.5s\n",
      "[CV] max_features=auto, min_samples_split=7, n_estimators=1000 .......\n",
      "[CV]  max_features=auto, min_samples_split=7, n_estimators=800, score=0.667418 -   5.9s\n",
      "[CV] max_features=auto, min_samples_split=7, n_estimators=1000 .......\n",
      "[CV]  max_features=auto, min_samples_split=7, n_estimators=800, score=0.622222 -   7.4s\n",
      "[CV] max_features=auto, min_samples_split=7, n_estimators=1000 .......\n",
      "[CV]  max_features=auto, min_samples_split=7, n_estimators=800, score=0.579070 -   7.0s\n",
      "[CV] max_features=auto, min_samples_split=7, n_estimators=1000 .......\n",
      "[CV]  max_features=auto, min_samples_split=7, n_estimators=800, score=0.633754 -   7.1s\n",
      "[CV] max_features=auto, min_samples_split=7, n_estimators=1000 .......\n",
      "[CV]  max_features=auto, min_samples_split=7, n_estimators=800, score=0.591017 -   7.0s\n",
      "[CV] max_features=auto, min_samples_split=7, n_estimators=1000 .......\n",
      "[CV]  max_features=auto, min_samples_split=7, n_estimators=800, score=0.645614 -   6.7s\n",
      "[CV] max_features=auto, min_samples_split=7, n_estimators=1000 .......\n",
      "[CV]  max_features=auto, min_samples_split=7, n_estimators=1000, score=0.637188 -   9.9s\n",
      "[CV] max_features=auto, min_samples_split=7, n_estimators=1000 .......\n",
      "[CV]  max_features=auto, min_samples_split=7, n_estimators=1000, score=0.640643 -  10.1s\n",
      "[CV] max_features=auto, min_samples_split=7, n_estimators=1000 .......\n",
      "[CV]  max_features=auto, min_samples_split=7, n_estimators=1000, score=0.632558 -   8.3s\n",
      "[CV]  max_features=auto, min_samples_split=7, n_estimators=1000, score=0.671964 -   8.1s\n",
      "[CV] max_features=auto, min_samples_split=11, n_estimators=500 .......\n",
      "[CV] max_features=auto, min_samples_split=11, n_estimators=500 .......\n",
      "[CV]  max_features=auto, min_samples_split=7, n_estimators=1000, score=0.578397 -   7.5s\n",
      "[CV] max_features=auto, min_samples_split=11, n_estimators=500 .......\n",
      "[CV]  max_features=auto, min_samples_split=7, n_estimators=1000, score=0.622222 -   9.1s\n",
      "[CV] max_features=auto, min_samples_split=11, n_estimators=500 .......\n",
      "[CV]  max_features=auto, min_samples_split=7, n_estimators=1000, score=0.633754 -  11.7s\n",
      "[CV] max_features=auto, min_samples_split=11, n_estimators=500 .......\n",
      "[CV]  max_features=auto, min_samples_split=11, n_estimators=500, score=0.634812 -   4.9s\n",
      "[CV] max_features=auto, min_samples_split=11, n_estimators=500 .......\n",
      "[CV]  max_features=auto, min_samples_split=11, n_estimators=500, score=0.637514 -   5.0s\n",
      "[CV] max_features=auto, min_samples_split=11, n_estimators=500 .......\n",
      "[CV]  max_features=auto, min_samples_split=11, n_estimators=500, score=0.631823 -   4.9s\n",
      "[CV] max_features=auto, min_samples_split=11, n_estimators=500 .......\n",
      "[CV]  max_features=auto, min_samples_split=7, n_estimators=1000, score=0.667418 -  11.6s\n",
      "[CV] max_features=auto, min_samples_split=11, n_estimators=500 .......\n",
      "[CV]  max_features=auto, min_samples_split=11, n_estimators=500, score=0.668942 -   5.8s\n",
      "[CV] max_features=auto, min_samples_split=11, n_estimators=500 .......\n",
      "[CV]  max_features=auto, min_samples_split=7, n_estimators=1000, score=0.645614 -   9.0s\n",
      "[CV] max_features=auto, min_samples_split=11, n_estimators=700 .......\n",
      "[CV]  max_features=auto, min_samples_split=7, n_estimators=1000, score=0.589349 -   9.3s\n",
      "[CV] max_features=auto, min_samples_split=11, n_estimators=700 .......\n",
      "[CV]  max_features=auto, min_samples_split=11, n_estimators=500, score=0.633754 -   4.7s\n",
      "[CV] max_features=auto, min_samples_split=11, n_estimators=700 .......\n",
      "[CV]  max_features=auto, min_samples_split=11, n_estimators=500, score=0.580046 -   4.8s\n",
      "[CV] max_features=auto, min_samples_split=11, n_estimators=700 .......\n",
      "[CV]  max_features=auto, min_samples_split=11, n_estimators=500, score=0.620609 -   5.1s\n",
      "[CV] max_features=auto, min_samples_split=11, n_estimators=700 .......\n",
      "[CV]  max_features=auto, min_samples_split=11, n_estimators=500, score=0.587678 -   4.6s\n",
      "[CV] max_features=auto, min_samples_split=11, n_estimators=700 .......\n",
      "[CV]  max_features=auto, min_samples_split=11, n_estimators=500, score=0.665914 -   5.2s\n",
      "[CV] max_features=auto, min_samples_split=11, n_estimators=700 .......\n",
      "[CV]  max_features=auto, min_samples_split=11, n_estimators=500, score=0.646370 -   5.3s\n",
      "[CV] max_features=auto, min_samples_split=11, n_estimators=700 .......\n",
      "[CV]  max_features=auto, min_samples_split=11, n_estimators=700, score=0.637514 -   6.3s\n",
      "[CV] max_features=auto, min_samples_split=11, n_estimators=700 .......\n",
      "[CV]  max_features=auto, min_samples_split=11, n_estimators=700, score=0.635641 -   6.8s\n",
      "[CV] max_features=auto, min_samples_split=11, n_estimators=700 .......\n",
      "[CV]  max_features=auto, min_samples_split=11, n_estimators=700, score=0.631823 -   6.7s\n",
      "[CV] max_features=auto, min_samples_split=11, n_estimators=800 .......\n",
      "[CV]  max_features=auto, min_samples_split=11, n_estimators=700, score=0.620609 -   6.8s\n",
      "[CV] max_features=auto, min_samples_split=11, n_estimators=800 .......\n",
      "[CV]  max_features=auto, min_samples_split=11, n_estimators=700, score=0.579070 -   7.0s\n",
      "[CV] max_features=auto, min_samples_split=11, n_estimators=800 .......\n",
      "[CV]  max_features=auto, min_samples_split=11, n_estimators=700, score=0.670455 -   7.4s\n",
      "[CV] max_features=auto, min_samples_split=11, n_estimators=800 .......\n",
      "[CV]  max_features=auto, min_samples_split=11, n_estimators=700, score=0.633754 -   7.9s\n",
      "[CV] max_features=auto, min_samples_split=11, n_estimators=800 .......\n",
      "[CV]  max_features=auto, min_samples_split=11, n_estimators=700, score=0.665914 -   7.2s\n",
      "[CV] max_features=auto, min_samples_split=11, n_estimators=800 .......\n",
      "[CV]  max_features=auto, min_samples_split=11, n_estimators=700, score=0.646370 -   6.0s\n",
      "[CV] max_features=auto, min_samples_split=11, n_estimators=800 .......\n",
      "[CV]  max_features=auto, min_samples_split=11, n_estimators=700, score=0.587678 -   7.1s\n",
      "[CV] max_features=auto, min_samples_split=11, n_estimators=800 .......\n",
      "[CV]  max_features=auto, min_samples_split=11, n_estimators=800, score=0.631823 -   5.9s\n",
      "[CV] max_features=auto, min_samples_split=11, n_estimators=800 .......\n",
      "[CV]  max_features=auto, min_samples_split=11, n_estimators=800, score=0.634812 -   6.7s\n",
      "[CV] max_features=auto, min_samples_split=11, n_estimators=800 .......\n",
      "[CV]  max_features=auto, min_samples_split=11, n_estimators=800, score=0.636782 -   7.2s\n",
      "[CV] max_features=auto, min_samples_split=11, n_estimators=1000 ......\n",
      "[CV]  max_features=auto, min_samples_split=11, n_estimators=800, score=0.670455 -   6.9s\n",
      "[CV] max_features=auto, min_samples_split=11, n_estimators=1000 ......\n",
      "[CV]  max_features=auto, min_samples_split=11, n_estimators=800, score=0.620609 -   7.8s\n",
      "[CV] max_features=auto, min_samples_split=11, n_estimators=1000 ......\n",
      "[CV]  max_features=auto, min_samples_split=11, n_estimators=800, score=0.579070 -   7.5s\n",
      "[CV] max_features=auto, min_samples_split=11, n_estimators=1000 ......\n",
      "[CV]  max_features=auto, min_samples_split=11, n_estimators=800, score=0.665914 -   7.4s\n",
      "[CV] max_features=auto, min_samples_split=11, n_estimators=1000 ......\n",
      "[CV]  max_features=auto, min_samples_split=11, n_estimators=800, score=0.632184 -   8.4s\n",
      "[CV] max_features=auto, min_samples_split=11, n_estimators=1000 ......\n",
      "[CV]  max_features=auto, min_samples_split=11, n_estimators=800, score=0.589349 -   6.6s\n",
      "[CV] max_features=auto, min_samples_split=11, n_estimators=1000 ......\n",
      "[CV]  max_features=auto, min_samples_split=11, n_estimators=800, score=0.646370 -   7.2s\n",
      "[CV] max_features=auto, min_samples_split=11, n_estimators=1000 ......\n",
      "[CV]  max_features=auto, min_samples_split=11, n_estimators=1000, score=0.635641 -   8.2s\n",
      "[CV] max_features=auto, min_samples_split=11, n_estimators=1000 ......\n",
      "[CV]  max_features=auto, min_samples_split=11, n_estimators=1000, score=0.637514 -   9.5s\n",
      "[CV] max_features=auto, min_samples_split=11, n_estimators=1000 ......\n",
      "[CV]  max_features=auto, min_samples_split=11, n_estimators=1000, score=0.631823 -   9.1s\n",
      "[CV] max_features=auto, min_samples_split=13, n_estimators=500 .......\n",
      "[CV]  max_features=auto, min_samples_split=11, n_estimators=1000, score=0.670455 -   8.7s\n",
      "[CV] max_features=auto, min_samples_split=13, n_estimators=500 .......\n",
      "[CV]  max_features=auto, min_samples_split=11, n_estimators=1000, score=0.620609 -   8.1s\n",
      "[CV] max_features=auto, min_samples_split=13, n_estimators=500 .......\n",
      "[CV]  max_features=auto, min_samples_split=11, n_estimators=1000, score=0.580046 -   8.3s\n",
      "[CV] max_features=auto, min_samples_split=13, n_estimators=500 .......\n",
      "[CV]  max_features=auto, min_samples_split=11, n_estimators=1000, score=0.633754 -   8.6s\n",
      "[CV] max_features=auto, min_samples_split=13, n_estimators=500 .......\n",
      "[CV]  max_features=auto, min_samples_split=11, n_estimators=1000, score=0.665914 -   9.4s\n",
      "[CV]  max_features=auto, min_samples_split=13, n_estimators=500, score=0.635641 -   4.7s\n",
      "[CV] max_features=auto, min_samples_split=13, n_estimators=500 .......\n",
      "[CV] max_features=auto, min_samples_split=13, n_estimators=500 .......\n",
      "[CV]  max_features=auto, min_samples_split=13, n_estimators=500, score=0.636782 -   5.2s\n",
      "[CV] max_features=auto, min_samples_split=13, n_estimators=500 .......\n",
      "[CV]  max_features=auto, min_samples_split=13, n_estimators=500, score=0.631823 -   4.9s\n",
      "[CV] max_features=auto, min_samples_split=13, n_estimators=500 .......\n",
      "[CV]  max_features=auto, min_samples_split=11, n_estimators=1000, score=0.589349 -   9.8s\n",
      "[CV] max_features=auto, min_samples_split=13, n_estimators=500 .......\n",
      "[CV]  max_features=auto, min_samples_split=13, n_estimators=500, score=0.668942 -   5.4s\n",
      "[CV] max_features=auto, min_samples_split=13, n_estimators=700 .......\n",
      "[CV]  max_features=auto, min_samples_split=11, n_estimators=1000, score=0.646370 -   9.1s\n",
      "[CV] max_features=auto, min_samples_split=13, n_estimators=700 .......\n",
      "[CV]  max_features=auto, min_samples_split=13, n_estimators=500, score=0.620609 -   5.6s\n",
      "[CV] max_features=auto, min_samples_split=13, n_estimators=700 .......\n",
      "[CV]  max_features=auto, min_samples_split=13, n_estimators=500, score=0.579374 -   4.6s\n",
      "[CV] max_features=auto, min_samples_split=13, n_estimators=700 .......\n",
      "[CV]  max_features=auto, min_samples_split=13, n_estimators=500, score=0.631458 -   4.9s\n",
      "[CV] max_features=auto, min_samples_split=13, n_estimators=700 .......\n",
      "[CV]  max_features=auto, min_samples_split=13, n_estimators=500, score=0.665914 -   4.1s\n",
      "[CV] max_features=auto, min_samples_split=13, n_estimators=700 .......\n",
      "[CV]  max_features=auto, min_samples_split=13, n_estimators=500, score=0.587678 -   4.0s\n",
      "[CV] max_features=auto, min_samples_split=13, n_estimators=700 .......\n",
      "[CV]  max_features=auto, min_samples_split=13, n_estimators=500, score=0.646370 -   4.3s\n",
      "[CV] max_features=auto, min_samples_split=13, n_estimators=700 .......\n",
      "[CV]  max_features=auto, min_samples_split=13, n_estimators=700, score=0.634812 -   5.5s\n",
      "[CV] max_features=auto, min_samples_split=13, n_estimators=700 .......\n",
      "[CV]  max_features=auto, min_samples_split=13, n_estimators=700, score=0.636782 -   5.5s\n",
      "[CV] max_features=auto, min_samples_split=13, n_estimators=700 .......\n",
      "[CV]  max_features=auto, min_samples_split=13, n_estimators=700, score=0.668942 -   5.3s\n",
      "[CV] max_features=auto, min_samples_split=13, n_estimators=800 .......\n",
      "[CV]  max_features=auto, min_samples_split=13, n_estimators=700, score=0.631823 -   6.0s\n",
      "[CV] max_features=auto, min_samples_split=13, n_estimators=800 .......\n",
      "[CV]  max_features=auto, min_samples_split=13, n_estimators=700, score=0.620609 -   5.9s\n",
      "[CV] max_features=auto, min_samples_split=13, n_estimators=800 .......\n",
      "[CV]  max_features=auto, min_samples_split=13, n_estimators=700, score=0.632184 -   5.8s\n",
      "[CV] max_features=auto, min_samples_split=13, n_estimators=800 .......\n",
      "[CV]  max_features=auto, min_samples_split=13, n_estimators=700, score=0.580046 -   6.6s\n",
      "[CV] max_features=auto, min_samples_split=13, n_estimators=800 .......\n",
      "[CV]  max_features=auto, min_samples_split=13, n_estimators=700, score=0.665914 -   7.2s\n",
      "[CV] max_features=auto, min_samples_split=13, n_estimators=800 .......\n",
      "[CV]  max_features=auto, min_samples_split=13, n_estimators=700, score=0.587678 -   6.4s\n",
      "[CV] max_features=auto, min_samples_split=13, n_estimators=800 .......\n",
      "[CV]  max_features=auto, min_samples_split=13, n_estimators=700, score=0.646370 -   5.7s\n",
      "[CV] max_features=auto, min_samples_split=13, n_estimators=800 .......\n",
      "[CV]  max_features=auto, min_samples_split=13, n_estimators=800, score=0.637514 -   5.8s\n",
      "[CV] max_features=auto, min_samples_split=13, n_estimators=800 .......\n",
      "[CV]  max_features=auto, min_samples_split=13, n_estimators=800, score=0.635641 -   6.2s\n",
      "[CV] max_features=auto, min_samples_split=13, n_estimators=800 .......\n",
      "[CV]  max_features=auto, min_samples_split=13, n_estimators=800, score=0.668942 -   6.6s\n",
      "[CV] max_features=auto, min_samples_split=13, n_estimators=1000 ......\n",
      "[CV]  max_features=auto, min_samples_split=13, n_estimators=800, score=0.631823 -   7.8s\n",
      "[CV] max_features=auto, min_samples_split=13, n_estimators=1000 ......\n",
      "[CV]  max_features=auto, min_samples_split=13, n_estimators=800, score=0.620609 -   7.1s\n",
      "[CV] max_features=auto, min_samples_split=13, n_estimators=1000 ......\n",
      "[CV]  max_features=auto, min_samples_split=13, n_estimators=800, score=0.580046 -   6.1s\n",
      "[CV] max_features=auto, min_samples_split=13, n_estimators=1000 ......\n",
      "[CV]  max_features=auto, min_samples_split=13, n_estimators=800, score=0.632184 -   6.7s\n",
      "[CV] max_features=auto, min_samples_split=13, n_estimators=1000 ......\n",
      "[CV]  max_features=auto, min_samples_split=13, n_estimators=800, score=0.665914 -   7.9s\n",
      "[CV] max_features=auto, min_samples_split=13, n_estimators=1000 ......\n",
      "[CV]  max_features=auto, min_samples_split=13, n_estimators=800, score=0.646370 -   6.7s\n",
      "[CV] max_features=auto, min_samples_split=13, n_estimators=1000 ......\n",
      "[CV]  max_features=auto, min_samples_split=13, n_estimators=800, score=0.587678 -   7.4s\n",
      "[CV] max_features=auto, min_samples_split=13, n_estimators=1000 ......\n",
      "[CV]  max_features=auto, min_samples_split=13, n_estimators=1000, score=0.634812 -   7.5s\n",
      "[CV] max_features=auto, min_samples_split=13, n_estimators=1000 ......\n",
      "[CV]  max_features=auto, min_samples_split=13, n_estimators=1000, score=0.637514 -   8.0s\n",
      "[CV] max_features=auto, min_samples_split=13, n_estimators=1000 ......\n"
     ]
    },
    {
     "name": "stderr",
     "output_type": "stream",
     "text": [
      "[Parallel(n_jobs=-1)]: Done 112 tasks      | elapsed:  1.6min\n"
     ]
    },
    {
     "name": "stdout",
     "output_type": "stream",
     "text": [
      "[CV]  max_features=auto, min_samples_split=13, n_estimators=1000, score=0.631823 -   8.6s\n",
      "[CV] max_features=auto, min_samples_split=15, n_estimators=500 .......\n",
      "[CV]  max_features=auto, min_samples_split=13, n_estimators=1000, score=0.667426 -   7.9s\n",
      "[CV] max_features=auto, min_samples_split=15, n_estimators=500 .......\n",
      "[CV]  max_features=auto, min_samples_split=13, n_estimators=1000, score=0.620609 -   8.6s\n",
      "[CV] max_features=auto, min_samples_split=15, n_estimators=500 .......\n",
      "[CV]  max_features=auto, min_samples_split=13, n_estimators=1000, score=0.632184 -   9.8s\n",
      "[CV] max_features=auto, min_samples_split=15, n_estimators=500 .......\n",
      "[CV]  max_features=auto, min_samples_split=13, n_estimators=1000, score=0.665914 -   9.5s\n",
      "[CV] max_features=auto, min_samples_split=15, n_estimators=500 .......\n",
      "[CV]  max_features=auto, min_samples_split=15, n_estimators=500, score=0.634812 -   5.3s\n",
      "[CV] max_features=auto, min_samples_split=15, n_estimators=500 .......\n",
      "[CV]  max_features=auto, min_samples_split=13, n_estimators=1000, score=0.579070 -  10.6s\n",
      "[CV] max_features=auto, min_samples_split=15, n_estimators=500 .......\n",
      "[CV]  max_features=auto, min_samples_split=15, n_estimators=500, score=0.637514 -   5.7s\n",
      "[CV] max_features=auto, min_samples_split=15, n_estimators=500 .......\n",
      "[CV]  max_features=auto, min_samples_split=13, n_estimators=1000, score=0.587678 -   9.4s\n",
      "[CV] max_features=auto, min_samples_split=15, n_estimators=500 .......\n",
      "[CV]  max_features=auto, min_samples_split=15, n_estimators=500, score=0.631823 -   6.2s\n",
      "[CV] max_features=auto, min_samples_split=15, n_estimators=500 .......\n",
      "[CV]  max_features=auto, min_samples_split=13, n_estimators=1000, score=0.646370 -  10.7s\n",
      "[CV] max_features=auto, min_samples_split=15, n_estimators=700 .......\n",
      "[CV]  max_features=auto, min_samples_split=15, n_estimators=500, score=0.620609 -   4.9s\n",
      "[CV] max_features=auto, min_samples_split=15, n_estimators=700 .......\n",
      "[CV]  max_features=auto, min_samples_split=15, n_estimators=500, score=0.632184 -   4.9s\n",
      "[CV] max_features=auto, min_samples_split=15, n_estimators=700 .......\n",
      "[CV]  max_features=auto, min_samples_split=15, n_estimators=500, score=0.669704 -   5.7s\n",
      "[CV] max_features=auto, min_samples_split=15, n_estimators=700 .......\n",
      "[CV]  max_features=auto, min_samples_split=15, n_estimators=500, score=0.579070 -   5.7s\n",
      "[CV] max_features=auto, min_samples_split=15, n_estimators=700 .......\n",
      "[CV]  max_features=auto, min_samples_split=15, n_estimators=500, score=0.665914 -   5.7s\n",
      "[CV] max_features=auto, min_samples_split=15, n_estimators=700 .......\n",
      "[CV]  max_features=auto, min_samples_split=15, n_estimators=500, score=0.587678 -   5.2s\n",
      "[CV] max_features=auto, min_samples_split=15, n_estimators=700 .......\n",
      "[CV]  max_features=auto, min_samples_split=15, n_estimators=500, score=0.646370 -   4.9s\n",
      "[CV] max_features=auto, min_samples_split=15, n_estimators=700 .......\n",
      "[CV]  max_features=auto, min_samples_split=15, n_estimators=700, score=0.637514 -   5.4s\n",
      "[CV] max_features=auto, min_samples_split=15, n_estimators=700 .......\n",
      "[CV]  max_features=auto, min_samples_split=15, n_estimators=700, score=0.635641 -   5.7s\n",
      "[CV] max_features=auto, min_samples_split=15, n_estimators=700 .......\n",
      "[CV]  max_features=auto, min_samples_split=15, n_estimators=700, score=0.631823 -   5.8s\n",
      "[CV] max_features=auto, min_samples_split=15, n_estimators=800 .......\n",
      "[CV]  max_features=auto, min_samples_split=15, n_estimators=700, score=0.667426 -   5.7s\n",
      "[CV] max_features=auto, min_samples_split=15, n_estimators=800 .......\n",
      "[CV]  max_features=auto, min_samples_split=15, n_estimators=700, score=0.620609 -   6.0s\n",
      "[CV] max_features=auto, min_samples_split=15, n_estimators=800 .......\n",
      "[CV]  max_features=auto, min_samples_split=15, n_estimators=700, score=0.580046 -   6.4s\n",
      "[CV] max_features=auto, min_samples_split=15, n_estimators=800 .......\n",
      "[CV]  max_features=auto, min_samples_split=15, n_estimators=700, score=0.632184 -   7.4s\n",
      "[CV] max_features=auto, min_samples_split=15, n_estimators=800 .......\n",
      "[CV]  max_features=auto, min_samples_split=15, n_estimators=700, score=0.665914 -   7.2s\n",
      "[CV] max_features=auto, min_samples_split=15, n_estimators=800 .......\n",
      "[CV]  max_features=auto, min_samples_split=15, n_estimators=700, score=0.646370 -   6.2s\n",
      "[CV] max_features=auto, min_samples_split=15, n_estimators=800 .......\n",
      "[CV]  max_features=auto, min_samples_split=15, n_estimators=700, score=0.587678 -   6.3s\n",
      "[CV] max_features=auto, min_samples_split=15, n_estimators=800 .......\n",
      "[CV]  max_features=auto, min_samples_split=15, n_estimators=800, score=0.634812 -   7.1s\n",
      "[CV] max_features=auto, min_samples_split=15, n_estimators=800 .......\n",
      "[CV]  max_features=auto, min_samples_split=15, n_estimators=800, score=0.636782 -   6.9s\n",
      "[CV] max_features=auto, min_samples_split=15, n_estimators=800 .......\n",
      "[CV]  max_features=auto, min_samples_split=15, n_estimators=800, score=0.631823 -   7.7s\n",
      "[CV] max_features=auto, min_samples_split=15, n_estimators=1000 ......\n",
      "[CV]  max_features=auto, min_samples_split=15, n_estimators=800, score=0.668942 -   8.0s\n",
      "[CV] max_features=auto, min_samples_split=15, n_estimators=1000 ......\n",
      "[CV]  max_features=auto, min_samples_split=15, n_estimators=800, score=0.620609 -   7.3s\n",
      "[CV] max_features=auto, min_samples_split=15, n_estimators=1000 ......\n",
      "[CV]  max_features=auto, min_samples_split=15, n_estimators=800, score=0.580046 -   7.9s\n",
      "[CV] max_features=auto, min_samples_split=15, n_estimators=1000 ......\n",
      "[CV]  max_features=auto, min_samples_split=15, n_estimators=800, score=0.665914 -   8.0s\n",
      "[CV] max_features=auto, min_samples_split=15, n_estimators=1000 ......\n",
      "[CV]  max_features=auto, min_samples_split=15, n_estimators=800, score=0.632184 -   8.1s\n",
      "[CV] max_features=auto, min_samples_split=15, n_estimators=1000 ......\n",
      "[CV]  max_features=auto, min_samples_split=15, n_estimators=800, score=0.646370 -   7.3s\n",
      "[CV] max_features=auto, min_samples_split=15, n_estimators=1000 ......\n",
      "[CV]  max_features=auto, min_samples_split=15, n_estimators=800, score=0.587678 -   7.6s\n",
      "[CV] max_features=auto, min_samples_split=15, n_estimators=1000 ......\n",
      "[CV]  max_features=auto, min_samples_split=15, n_estimators=1000, score=0.634812 -   9.3s\n",
      "[CV] max_features=auto, min_samples_split=15, n_estimators=1000 ......\n",
      "[CV]  max_features=auto, min_samples_split=15, n_estimators=1000, score=0.636782 -   9.1s\n",
      "[CV] max_features=auto, min_samples_split=15, n_estimators=1000 ......\n",
      "[CV]  max_features=auto, min_samples_split=15, n_estimators=1000, score=0.631823 -   9.0s\n",
      "[CV] max_features=log2, min_samples_split=7, n_estimators=500 ........\n",
      "[CV]  max_features=auto, min_samples_split=15, n_estimators=1000, score=0.668942 -   9.3s\n",
      "[CV] max_features=log2, min_samples_split=7, n_estimators=500 ........\n",
      "[CV]  max_features=auto, min_samples_split=15, n_estimators=1000, score=0.579070 -   7.8s\n",
      "[CV] max_features=log2, min_samples_split=7, n_estimators=500 ........\n",
      "[CV]  max_features=auto, min_samples_split=15, n_estimators=1000, score=0.620609 -   9.1s\n",
      "[CV] max_features=log2, min_samples_split=7, n_estimators=500 ........\n",
      "[CV]  max_features=auto, min_samples_split=15, n_estimators=1000, score=0.665914 -   9.8s\n",
      "[CV] max_features=log2, min_samples_split=7, n_estimators=500 ........\n",
      "[CV]  max_features=auto, min_samples_split=15, n_estimators=1000, score=0.632184 -  10.0s\n",
      "[CV] max_features=log2, min_samples_split=7, n_estimators=500 ........\n",
      "[CV]  max_features=log2, min_samples_split=7, n_estimators=500, score=0.637188 -   4.9s\n",
      "[CV] max_features=log2, min_samples_split=7, n_estimators=500 ........\n",
      "[CV]  max_features=log2, min_samples_split=7, n_estimators=500, score=0.639080 -   5.0s\n",
      "[CV] max_features=log2, min_samples_split=7, n_estimators=500 ........\n",
      "[CV]  max_features=log2, min_samples_split=7, n_estimators=500, score=0.632558 -   5.0s\n",
      "[CV] max_features=log2, min_samples_split=7, n_estimators=500 ........\n",
      "[CV]  max_features=auto, min_samples_split=15, n_estimators=1000, score=0.587678 -  10.5s\n",
      "[CV] max_features=log2, min_samples_split=7, n_estimators=500 ........\n",
      "[CV]  max_features=log2, min_samples_split=7, n_estimators=500, score=0.671964 -   5.6s\n",
      "[CV] max_features=log2, min_samples_split=7, n_estimators=700 ........\n",
      "[CV]  max_features=auto, min_samples_split=15, n_estimators=1000, score=0.644783 -   9.9s\n",
      "[CV] max_features=log2, min_samples_split=7, n_estimators=700 ........\n",
      "[CV]  max_features=log2, min_samples_split=7, n_estimators=500, score=0.622222 -   5.1s\n",
      "[CV] max_features=log2, min_samples_split=7, n_estimators=700 ........\n",
      "[CV]  max_features=log2, min_samples_split=7, n_estimators=500, score=0.580046 -   5.5s\n",
      "[CV] max_features=log2, min_samples_split=7, n_estimators=700 ........\n",
      "[CV]  max_features=log2, min_samples_split=7, n_estimators=500, score=0.633754 -   5.5s\n",
      "[CV] max_features=log2, min_samples_split=7, n_estimators=700 ........\n",
      "[CV]  max_features=log2, min_samples_split=7, n_estimators=500, score=0.667418 -   5.2s\n",
      "[CV] max_features=log2, min_samples_split=7, n_estimators=700 ........\n",
      "[CV]  max_features=log2, min_samples_split=7, n_estimators=500, score=0.589349 -   5.2s\n",
      "[CV] max_features=log2, min_samples_split=7, n_estimators=700 ........\n",
      "[CV]  max_features=log2, min_samples_split=7, n_estimators=500, score=0.645614 -   4.7s\n",
      "[CV] max_features=log2, min_samples_split=7, n_estimators=700 ........\n",
      "[CV]  max_features=log2, min_samples_split=7, n_estimators=700, score=0.637188 -   6.4s\n",
      "[CV] max_features=log2, min_samples_split=7, n_estimators=700 ........\n",
      "[CV]  max_features=log2, min_samples_split=7, n_estimators=700, score=0.640643 -   6.4s\n",
      "[CV]  max_features=log2, min_samples_split=7, n_estimators=700, score=0.632558 -   5.8s\n",
      "[CV] max_features=log2, min_samples_split=7, n_estimators=700 ........\n",
      "[CV] max_features=log2, min_samples_split=7, n_estimators=800 ........\n",
      "[CV]  max_features=log2, min_samples_split=7, n_estimators=700, score=0.671964 -   5.9s\n",
      "[CV] max_features=log2, min_samples_split=7, n_estimators=800 ........\n",
      "[CV]  max_features=log2, min_samples_split=7, n_estimators=700, score=0.622222 -   6.2s\n",
      "[CV] max_features=log2, min_samples_split=7, n_estimators=800 ........\n",
      "[CV]  max_features=log2, min_samples_split=7, n_estimators=700, score=0.580046 -   6.6s\n",
      "[CV] max_features=log2, min_samples_split=7, n_estimators=800 ........\n",
      "[CV]  max_features=log2, min_samples_split=7, n_estimators=700, score=0.633754 -   6.8s\n",
      "[CV] max_features=log2, min_samples_split=7, n_estimators=800 ........\n",
      "[CV]  max_features=log2, min_samples_split=7, n_estimators=700, score=0.667418 -   6.3s\n",
      "[CV] max_features=log2, min_samples_split=7, n_estimators=800 ........\n",
      "[CV]  max_features=log2, min_samples_split=7, n_estimators=700, score=0.589349 -   6.8s\n",
      "[CV] max_features=log2, min_samples_split=7, n_estimators=800 ........\n",
      "[CV]  max_features=log2, min_samples_split=7, n_estimators=700, score=0.645614 -   7.0s\n",
      "[CV] max_features=log2, min_samples_split=7, n_estimators=800 ........\n",
      "[CV]  max_features=log2, min_samples_split=7, n_estimators=800, score=0.637514 -   7.2s\n",
      "[CV] max_features=log2, min_samples_split=7, n_estimators=800 ........\n",
      "[CV]  max_features=log2, min_samples_split=7, n_estimators=800, score=0.637188 -   8.0s\n",
      "[CV] max_features=log2, min_samples_split=7, n_estimators=800 ........\n",
      "[CV]  max_features=log2, min_samples_split=7, n_estimators=800, score=0.632558 -   7.3s\n",
      "[CV] max_features=log2, min_samples_split=7, n_estimators=1000 .......\n",
      "[CV]  max_features=log2, min_samples_split=7, n_estimators=800, score=0.671964 -   8.0s\n",
      "[CV] max_features=log2, min_samples_split=7, n_estimators=1000 .......\n",
      "[CV]  max_features=log2, min_samples_split=7, n_estimators=800, score=0.622222 -   8.5s\n",
      "[CV] max_features=log2, min_samples_split=7, n_estimators=1000 .......\n",
      "[CV]  max_features=log2, min_samples_split=7, n_estimators=800, score=0.579374 -   8.6s\n",
      "[CV] max_features=log2, min_samples_split=7, n_estimators=1000 .......\n",
      "[CV]  max_features=log2, min_samples_split=7, n_estimators=800, score=0.589349 -   6.6s\n",
      "[CV] max_features=log2, min_samples_split=7, n_estimators=1000 .......\n",
      "[CV]  max_features=log2, min_samples_split=7, n_estimators=800, score=0.633754 -   8.4s\n",
      "[CV] max_features=log2, min_samples_split=7, n_estimators=1000 .......\n",
      "[CV]  max_features=log2, min_samples_split=7, n_estimators=800, score=0.667418 -   8.1s\n",
      "[CV] max_features=log2, min_samples_split=7, n_estimators=1000 .......\n",
      "[CV]  max_features=log2, min_samples_split=7, n_estimators=800, score=0.645614 -   7.9s\n",
      "[CV] max_features=log2, min_samples_split=7, n_estimators=1000 .......\n",
      "[CV]  max_features=log2, min_samples_split=7, n_estimators=1000, score=0.637188 -   8.9s\n",
      "[CV] max_features=log2, min_samples_split=7, n_estimators=1000 .......\n",
      "[CV]  max_features=log2, min_samples_split=7, n_estimators=1000, score=0.639080 -   9.3s\n",
      "[CV] max_features=log2, min_samples_split=7, n_estimators=1000 .......\n",
      "[CV]  max_features=log2, min_samples_split=7, n_estimators=1000, score=0.632558 -   8.8s\n",
      "[CV] max_features=log2, min_samples_split=11, n_estimators=500 .......\n",
      "[CV]  max_features=log2, min_samples_split=7, n_estimators=1000, score=0.671964 -   9.2s\n",
      "[CV] max_features=log2, min_samples_split=11, n_estimators=500 .......\n",
      "[CV]  max_features=log2, min_samples_split=7, n_estimators=1000, score=0.622222 -   8.2s\n",
      "[CV] max_features=log2, min_samples_split=11, n_estimators=500 .......\n",
      "[CV]  max_features=log2, min_samples_split=7, n_estimators=1000, score=0.580046 -   9.2s\n",
      "[CV] max_features=log2, min_samples_split=11, n_estimators=500 .......\n",
      "[CV]  max_features=log2, min_samples_split=7, n_estimators=1000, score=0.633754 -   9.9s\n",
      "[CV] max_features=log2, min_samples_split=11, n_estimators=500 .......\n",
      "[CV]  max_features=log2, min_samples_split=11, n_estimators=500, score=0.635641 -   4.9s\n",
      "[CV] max_features=log2, min_samples_split=11, n_estimators=500 .......\n",
      "[CV]  max_features=log2, min_samples_split=7, n_estimators=1000, score=0.667418 -  10.2s\n",
      "[CV] max_features=log2, min_samples_split=11, n_estimators=500 .......\n",
      "[CV]  max_features=log2, min_samples_split=11, n_estimators=500, score=0.637514 -   5.2s\n",
      "[CV] max_features=log2, min_samples_split=11, n_estimators=500 .......\n",
      "[CV]  max_features=log2, min_samples_split=11, n_estimators=500, score=0.631823 -   5.0s\n",
      "[CV] max_features=log2, min_samples_split=11, n_estimators=500 .......\n",
      "[CV]  max_features=log2, min_samples_split=7, n_estimators=1000, score=0.589349 -  11.5s\n",
      "[CV] max_features=log2, min_samples_split=11, n_estimators=500 .......\n",
      "[CV]  max_features=log2, min_samples_split=11, n_estimators=500, score=0.670455 -   5.9s\n",
      "[CV] max_features=log2, min_samples_split=11, n_estimators=700 .......\n",
      "[CV]  max_features=log2, min_samples_split=11, n_estimators=500, score=0.620609 -   5.0s\n",
      "[CV] max_features=log2, min_samples_split=11, n_estimators=700 .......\n",
      "[CV]  max_features=log2, min_samples_split=7, n_estimators=1000, score=0.645614 -  10.4s\n",
      "[CV] max_features=log2, min_samples_split=11, n_estimators=700 .......\n",
      "[CV]  max_features=log2, min_samples_split=11, n_estimators=500, score=0.579070 -   5.3s\n",
      "[CV] max_features=log2, min_samples_split=11, n_estimators=700 .......\n",
      "[CV]  max_features=log2, min_samples_split=11, n_estimators=500, score=0.633754 -   5.0s\n",
      "[CV] max_features=log2, min_samples_split=11, n_estimators=700 .......\n",
      "[CV]  max_features=log2, min_samples_split=11, n_estimators=500, score=0.665914 -   6.1s\n",
      "[CV] max_features=log2, min_samples_split=11, n_estimators=700 .......\n",
      "[CV]  max_features=log2, min_samples_split=11, n_estimators=500, score=0.587678 -   5.4s\n",
      "[CV] max_features=log2, min_samples_split=11, n_estimators=700 .......\n",
      "[CV]  max_features=log2, min_samples_split=11, n_estimators=500, score=0.646370 -   4.3s\n",
      "[CV] max_features=log2, min_samples_split=11, n_estimators=700 .......\n",
      "[CV]  max_features=log2, min_samples_split=11, n_estimators=700, score=0.635641 -   6.3s\n",
      "[CV] max_features=log2, min_samples_split=11, n_estimators=700 .......\n",
      "[CV]  max_features=log2, min_samples_split=11, n_estimators=700, score=0.637514 -   6.2s\n",
      "[CV] max_features=log2, min_samples_split=11, n_estimators=700 .......\n",
      "[CV]  max_features=log2, min_samples_split=11, n_estimators=700, score=0.631823 -   6.3s\n",
      "[CV] max_features=log2, min_samples_split=11, n_estimators=800 .......\n",
      "[CV]  max_features=log2, min_samples_split=11, n_estimators=700, score=0.670455 -   6.1s\n",
      "[CV] max_features=log2, min_samples_split=11, n_estimators=800 .......\n",
      "[CV]  max_features=log2, min_samples_split=11, n_estimators=700, score=0.620609 -   6.5s\n",
      "[CV] max_features=log2, min_samples_split=11, n_estimators=800 .......\n",
      "[CV]  max_features=log2, min_samples_split=11, n_estimators=700, score=0.633754 -   7.0s\n",
      "[CV] max_features=log2, min_samples_split=11, n_estimators=800 .......\n",
      "[CV]  max_features=log2, min_samples_split=11, n_estimators=700, score=0.579070 -   7.2s\n",
      "[CV] max_features=log2, min_samples_split=11, n_estimators=800 .......\n",
      "[CV]  max_features=log2, min_samples_split=11, n_estimators=700, score=0.665914 -   7.4s\n",
      "[CV] max_features=log2, min_samples_split=11, n_estimators=800 .......\n",
      "[CV]  max_features=log2, min_samples_split=11, n_estimators=700, score=0.587678 -   5.7s\n",
      "[CV] max_features=log2, min_samples_split=11, n_estimators=800 .......\n",
      "[CV]  max_features=log2, min_samples_split=11, n_estimators=700, score=0.646370 -   6.6s\n",
      "[CV] max_features=log2, min_samples_split=11, n_estimators=800 .......\n",
      "[CV]  max_features=log2, min_samples_split=11, n_estimators=800, score=0.635641 -   7.2s\n",
      "[CV] max_features=log2, min_samples_split=11, n_estimators=800 .......\n",
      "[CV]  max_features=log2, min_samples_split=11, n_estimators=800, score=0.637514 -   7.2s\n",
      "[CV] max_features=log2, min_samples_split=11, n_estimators=800 .......\n",
      "[CV]  max_features=log2, min_samples_split=11, n_estimators=800, score=0.631823 -   7.2s\n",
      "[CV] max_features=log2, min_samples_split=11, n_estimators=1000 ......\n",
      "[CV]  max_features=log2, min_samples_split=11, n_estimators=800, score=0.668942 -   7.5s\n",
      "[CV] max_features=log2, min_samples_split=11, n_estimators=1000 ......\n",
      "[CV]  max_features=log2, min_samples_split=11, n_estimators=800, score=0.579070 -   7.0s\n",
      "[CV] max_features=log2, min_samples_split=11, n_estimators=1000 ......\n",
      "[CV]  max_features=log2, min_samples_split=11, n_estimators=800, score=0.620609 -   8.5s\n",
      "[CV] max_features=log2, min_samples_split=11, n_estimators=1000 ......\n",
      "[CV]  max_features=log2, min_samples_split=11, n_estimators=800, score=0.633754 -   7.8s\n",
      "[CV] max_features=log2, min_samples_split=11, n_estimators=1000 ......\n",
      "[CV]  max_features=log2, min_samples_split=11, n_estimators=800, score=0.587678 -   6.6s\n",
      "[CV] max_features=log2, min_samples_split=11, n_estimators=1000 ......\n",
      "[CV]  max_features=log2, min_samples_split=11, n_estimators=800, score=0.665914 -   8.2s\n",
      "[CV] max_features=log2, min_samples_split=11, n_estimators=1000 ......\n",
      "[CV]  max_features=log2, min_samples_split=11, n_estimators=800, score=0.646370 -   7.6s\n",
      "[CV] max_features=log2, min_samples_split=11, n_estimators=1000 ......\n",
      "[CV]  max_features=log2, min_samples_split=11, n_estimators=1000, score=0.634812 -   9.8s\n",
      "[CV] max_features=log2, min_samples_split=11, n_estimators=1000 ......\n",
      "[CV]  max_features=log2, min_samples_split=11, n_estimators=1000, score=0.637514 -   8.0s\n",
      "[CV] max_features=log2, min_samples_split=11, n_estimators=1000 ......\n",
      "[CV]  max_features=log2, min_samples_split=11, n_estimators=1000, score=0.631823 -   8.4s\n",
      "[CV] max_features=log2, min_samples_split=13, n_estimators=500 .......\n",
      "[CV]  max_features=log2, min_samples_split=11, n_estimators=1000, score=0.670455 -   9.6s\n",
      "[CV] max_features=log2, min_samples_split=13, n_estimators=500 .......\n",
      "[CV]  max_features=log2, min_samples_split=11, n_estimators=1000, score=0.620609 -  10.0s\n",
      "[CV] max_features=log2, min_samples_split=13, n_estimators=500 .......\n",
      "[CV]  max_features=log2, min_samples_split=11, n_estimators=1000, score=0.665914 -   8.8s\n",
      "[CV] max_features=log2, min_samples_split=13, n_estimators=500 .......\n",
      "[CV]  max_features=log2, min_samples_split=11, n_estimators=1000, score=0.633754 -  10.5s\n",
      "[CV] max_features=log2, min_samples_split=13, n_estimators=500 .......\n",
      "[CV]  max_features=log2, min_samples_split=11, n_estimators=1000, score=0.580046 -  11.2s\n",
      "[CV] max_features=log2, min_samples_split=13, n_estimators=500 .......\n",
      "[CV]  max_features=log2, min_samples_split=13, n_estimators=500, score=0.637514 -   4.5s\n",
      "[CV] max_features=log2, min_samples_split=13, n_estimators=500 .......\n",
      "[CV]  max_features=log2, min_samples_split=13, n_estimators=500, score=0.635641 -   6.8s\n",
      "[CV] max_features=log2, min_samples_split=13, n_estimators=500 .......\n",
      "[CV]  max_features=log2, min_samples_split=11, n_estimators=1000, score=0.589349 -   9.7s\n",
      "[CV] max_features=log2, min_samples_split=13, n_estimators=500 .......\n",
      "[CV]  max_features=log2, min_samples_split=13, n_estimators=500, score=0.631823 -   5.6s\n",
      "[CV] max_features=log2, min_samples_split=13, n_estimators=500 .......\n",
      "[CV]  max_features=log2, min_samples_split=11, n_estimators=1000, score=0.646370 -  10.3s\n",
      "[CV] max_features=log2, min_samples_split=13, n_estimators=700 .......\n",
      "[CV]  max_features=log2, min_samples_split=13, n_estimators=500, score=0.669704 -   5.4s\n",
      "[CV] max_features=log2, min_samples_split=13, n_estimators=700 .......\n",
      "[CV]  max_features=log2, min_samples_split=13, n_estimators=500, score=0.620609 -   5.2s\n",
      "[CV] max_features=log2, min_samples_split=13, n_estimators=700 .......\n",
      "[CV]  max_features=log2, min_samples_split=13, n_estimators=500, score=0.579070 -   5.6s\n",
      "[CV] max_features=log2, min_samples_split=13, n_estimators=700 .......\n",
      "[CV]  max_features=log2, min_samples_split=13, n_estimators=500, score=0.632184 -   5.3s\n",
      "[CV] max_features=log2, min_samples_split=13, n_estimators=700 .......\n",
      "[CV]  max_features=log2, min_samples_split=13, n_estimators=500, score=0.665914 -   5.3s\n",
      "[CV] max_features=log2, min_samples_split=13, n_estimators=700 .......\n",
      "[CV]  max_features=log2, min_samples_split=13, n_estimators=500, score=0.587678 -   5.1s\n",
      "[CV] max_features=log2, min_samples_split=13, n_estimators=700 .......\n",
      "[CV]  max_features=log2, min_samples_split=13, n_estimators=500, score=0.646370 -   5.1s\n",
      "[CV] max_features=log2, min_samples_split=13, n_estimators=700 .......\n",
      "[CV]  max_features=log2, min_samples_split=13, n_estimators=700, score=0.635641 -   5.9s\n",
      "[CV] max_features=log2, min_samples_split=13, n_estimators=700 .......\n",
      "[CV]  max_features=log2, min_samples_split=13, n_estimators=700, score=0.637514 -   6.0s\n",
      "[CV] max_features=log2, min_samples_split=13, n_estimators=700 .......\n",
      "[CV]  max_features=log2, min_samples_split=13, n_estimators=700, score=0.631823 -   6.0s\n",
      "[CV] max_features=log2, min_samples_split=13, n_estimators=800 .......\n",
      "[CV]  max_features=log2, min_samples_split=13, n_estimators=700, score=0.667426 -   6.5s\n",
      "[CV] max_features=log2, min_samples_split=13, n_estimators=800 .......\n",
      "[CV]  max_features=log2, min_samples_split=13, n_estimators=700, score=0.580046 -   6.6s\n",
      "[CV] max_features=log2, min_samples_split=13, n_estimators=800 .......\n",
      "[CV]  max_features=log2, min_samples_split=13, n_estimators=700, score=0.620609 -   6.9s\n",
      "[CV] max_features=log2, min_samples_split=13, n_estimators=800 .......\n",
      "[CV]  max_features=log2, min_samples_split=13, n_estimators=700, score=0.632184 -   6.1s\n",
      "[CV] max_features=log2, min_samples_split=13, n_estimators=800 .......\n",
      "[CV]  max_features=log2, min_samples_split=13, n_estimators=700, score=0.665914 -   6.4s\n",
      "[CV] max_features=log2, min_samples_split=13, n_estimators=800 .......\n",
      "[CV]  max_features=log2, min_samples_split=13, n_estimators=700, score=0.646370 -   6.1s\n",
      "[CV] max_features=log2, min_samples_split=13, n_estimators=800 .......\n",
      "[CV]  max_features=log2, min_samples_split=13, n_estimators=700, score=0.587678 -   7.1s\n",
      "[CV] max_features=log2, min_samples_split=13, n_estimators=800 .......\n",
      "[CV]  max_features=log2, min_samples_split=13, n_estimators=800, score=0.634812 -   7.5s\n",
      "[CV] max_features=log2, min_samples_split=13, n_estimators=800 .......\n",
      "[CV]  max_features=log2, min_samples_split=13, n_estimators=800, score=0.636782 -   7.3s\n",
      "[CV] max_features=log2, min_samples_split=13, n_estimators=800 .......\n",
      "[CV]  max_features=log2, min_samples_split=13, n_estimators=800, score=0.631823 -   6.9s\n",
      "[CV] max_features=log2, min_samples_split=13, n_estimators=1000 ......\n",
      "[CV]  max_features=log2, min_samples_split=13, n_estimators=800, score=0.667426 -   6.9s\n",
      "[CV] max_features=log2, min_samples_split=13, n_estimators=1000 ......\n",
      "[CV]  max_features=log2, min_samples_split=13, n_estimators=800, score=0.620609 -   7.2s\n",
      "[CV] max_features=log2, min_samples_split=13, n_estimators=1000 ......\n",
      "[CV]  max_features=log2, min_samples_split=13, n_estimators=800, score=0.579070 -   7.6s\n",
      "[CV] max_features=log2, min_samples_split=13, n_estimators=1000 ......\n",
      "[CV]  max_features=log2, min_samples_split=13, n_estimators=800, score=0.632184 -   7.5s\n",
      "[CV] max_features=log2, min_samples_split=13, n_estimators=1000 ......\n",
      "[CV]  max_features=log2, min_samples_split=13, n_estimators=800, score=0.665914 -   7.0s\n",
      "[CV] max_features=log2, min_samples_split=13, n_estimators=1000 ......\n",
      "[CV]  max_features=log2, min_samples_split=13, n_estimators=800, score=0.587678 -   6.5s\n",
      "[CV] max_features=log2, min_samples_split=13, n_estimators=1000 ......\n",
      "[CV]  max_features=log2, min_samples_split=13, n_estimators=800, score=0.646370 -   6.4s\n",
      "[CV] max_features=log2, min_samples_split=13, n_estimators=1000 ......\n",
      "[CV]  max_features=log2, min_samples_split=13, n_estimators=1000, score=0.634812 -   7.8s\n",
      "[CV] max_features=log2, min_samples_split=13, n_estimators=1000 ......\n",
      "[CV]  max_features=log2, min_samples_split=13, n_estimators=1000, score=0.637514 -   8.0s\n",
      "[CV] max_features=log2, min_samples_split=13, n_estimators=1000 ......\n"
     ]
    },
    {
     "name": "stderr",
     "output_type": "stream",
     "text": [
      "[Parallel(n_jobs=-1)]: Done 272 tasks      | elapsed:  4.0min\n"
     ]
    },
    {
     "name": "stdout",
     "output_type": "stream",
     "text": [
      "[CV]  max_features=log2, min_samples_split=13, n_estimators=1000, score=0.631823 -   9.4s\n",
      "[CV] max_features=log2, min_samples_split=15, n_estimators=500 .......\n",
      "[CV]  max_features=log2, min_samples_split=13, n_estimators=1000, score=0.667426 -   7.9s\n",
      "[CV] max_features=log2, min_samples_split=15, n_estimators=500 .......\n",
      "[CV]  max_features=log2, min_samples_split=13, n_estimators=1000, score=0.580046 -   9.3s\n",
      "[CV] max_features=log2, min_samples_split=15, n_estimators=500 .......\n",
      "[CV]  max_features=log2, min_samples_split=13, n_estimators=1000, score=0.620609 -   9.5s\n",
      "[CV] max_features=log2, min_samples_split=15, n_estimators=500 .......\n",
      "[CV]  max_features=log2, min_samples_split=13, n_estimators=1000, score=0.633754 -   8.5s\n",
      "[CV] max_features=log2, min_samples_split=15, n_estimators=500 .......\n",
      "[CV]  max_features=log2, min_samples_split=13, n_estimators=1000, score=0.665914 -   8.3s\n",
      "[CV] max_features=log2, min_samples_split=15, n_estimators=500 .......\n",
      "[CV]  max_features=log2, min_samples_split=15, n_estimators=500, score=0.635641 -   4.9s\n",
      "[CV] max_features=log2, min_samples_split=15, n_estimators=500 .......\n",
      "[CV]  max_features=log2, min_samples_split=15, n_estimators=500, score=0.636782 -   5.1s\n",
      "[CV] max_features=log2, min_samples_split=15, n_estimators=500 .......\n",
      "[CV]  max_features=log2, min_samples_split=13, n_estimators=1000, score=0.587678 -   9.8s\n",
      "[CV] max_features=log2, min_samples_split=15, n_estimators=500 .......\n",
      "[CV]  max_features=log2, min_samples_split=15, n_estimators=500, score=0.631823 -   4.9s\n",
      "[CV] max_features=log2, min_samples_split=15, n_estimators=500 .......\n",
      "[CV]  max_features=log2, min_samples_split=15, n_estimators=500, score=0.620609 -   4.8s\n",
      "[CV] max_features=log2, min_samples_split=15, n_estimators=700 .......\n",
      "[CV]  max_features=log2, min_samples_split=15, n_estimators=500, score=0.670455 -   5.0s\n",
      "[CV] max_features=log2, min_samples_split=15, n_estimators=700 .......\n",
      "[CV]  max_features=log2, min_samples_split=13, n_estimators=1000, score=0.646370 -  10.8s\n",
      "[CV] max_features=log2, min_samples_split=15, n_estimators=700 .......\n",
      "[CV]  max_features=log2, min_samples_split=15, n_estimators=500, score=0.579070 -   5.2s\n",
      "[CV] max_features=log2, min_samples_split=15, n_estimators=700 .......\n",
      "[CV]  max_features=log2, min_samples_split=15, n_estimators=500, score=0.632184 -   5.2s\n",
      "[CV] max_features=log2, min_samples_split=15, n_estimators=700 .......\n",
      "[CV]  max_features=log2, min_samples_split=15, n_estimators=500, score=0.665914 -   5.0s\n",
      "[CV] max_features=log2, min_samples_split=15, n_estimators=700 .......\n",
      "[CV]  max_features=log2, min_samples_split=15, n_estimators=500, score=0.587678 -   3.9s\n",
      "[CV] max_features=log2, min_samples_split=15, n_estimators=700 .......\n",
      "[CV]  max_features=log2, min_samples_split=15, n_estimators=500, score=0.646370 -   4.0s\n",
      "[CV] max_features=log2, min_samples_split=15, n_estimators=700 .......\n",
      "[CV]  max_features=log2, min_samples_split=15, n_estimators=700, score=0.636782 -   5.5s\n",
      "[CV] max_features=log2, min_samples_split=15, n_estimators=700 .......\n",
      "[CV]  max_features=log2, min_samples_split=15, n_estimators=700, score=0.634812 -   6.2s\n",
      "[CV] max_features=log2, min_samples_split=15, n_estimators=700 .......\n",
      "[CV]  max_features=log2, min_samples_split=15, n_estimators=700, score=0.631823 -   6.8s\n",
      "[CV] max_features=log2, min_samples_split=15, n_estimators=800 .......\n",
      "[CV]  max_features=log2, min_samples_split=15, n_estimators=700, score=0.667426 -   7.0s\n",
      "[CV] max_features=log2, min_samples_split=15, n_estimators=800 .......\n",
      "[CV]  max_features=log2, min_samples_split=15, n_estimators=700, score=0.620609 -   6.6s\n",
      "[CV] max_features=log2, min_samples_split=15, n_estimators=800 .......\n",
      "[CV]  max_features=log2, min_samples_split=15, n_estimators=700, score=0.580046 -   6.9s\n",
      "[CV] max_features=log2, min_samples_split=15, n_estimators=800 .......\n",
      "[CV]  max_features=log2, min_samples_split=15, n_estimators=700, score=0.632184 -   7.6s\n",
      "[CV] max_features=log2, min_samples_split=15, n_estimators=800 .......\n",
      "[CV]  max_features=log2, min_samples_split=15, n_estimators=700, score=0.665914 -   7.8s\n",
      "[CV] max_features=log2, min_samples_split=15, n_estimators=800 .......\n",
      "[CV]  max_features=log2, min_samples_split=15, n_estimators=700, score=0.587678 -   6.8s\n",
      "[CV] max_features=log2, min_samples_split=15, n_estimators=800 .......\n",
      "[CV]  max_features=log2, min_samples_split=15, n_estimators=700, score=0.646370 -   6.3s\n",
      "[CV] max_features=log2, min_samples_split=15, n_estimators=800 .......\n",
      "[CV]  max_features=log2, min_samples_split=15, n_estimators=800, score=0.635641 -   7.1s\n",
      "[CV] max_features=log2, min_samples_split=15, n_estimators=800 .......\n",
      "[CV]  max_features=log2, min_samples_split=15, n_estimators=800, score=0.636782 -   7.1s\n",
      "[CV] max_features=log2, min_samples_split=15, n_estimators=800 .......\n",
      "[CV]  max_features=log2, min_samples_split=15, n_estimators=800, score=0.631823 -   7.7s\n",
      "[CV] max_features=log2, min_samples_split=15, n_estimators=1000 ......\n",
      "[CV]  max_features=log2, min_samples_split=15, n_estimators=800, score=0.669704 -   7.3s\n",
      "[CV] max_features=log2, min_samples_split=15, n_estimators=1000 ......\n",
      "[CV]  max_features=log2, min_samples_split=15, n_estimators=800, score=0.620609 -   7.5s\n",
      "[CV] max_features=log2, min_samples_split=15, n_estimators=1000 ......\n",
      "[CV]  max_features=log2, min_samples_split=15, n_estimators=800, score=0.579070 -   7.9s\n",
      "[CV] max_features=log2, min_samples_split=15, n_estimators=1000 ......\n",
      "[CV]  max_features=log2, min_samples_split=15, n_estimators=800, score=0.665914 -   7.6s\n",
      "[CV] max_features=log2, min_samples_split=15, n_estimators=1000 ......\n",
      "[CV]  max_features=log2, min_samples_split=15, n_estimators=800, score=0.632184 -   8.1s\n",
      "[CV] max_features=log2, min_samples_split=15, n_estimators=1000 ......\n",
      "[CV]  max_features=log2, min_samples_split=15, n_estimators=800, score=0.587678 -   7.4s\n",
      "[CV] max_features=log2, min_samples_split=15, n_estimators=1000 ......\n",
      "[CV]  max_features=log2, min_samples_split=15, n_estimators=800, score=0.646370 -   7.1s\n",
      "[CV] max_features=log2, min_samples_split=15, n_estimators=1000 ......\n",
      "[CV]  max_features=log2, min_samples_split=15, n_estimators=1000, score=0.636782 -   8.2s\n",
      "[CV] max_features=log2, min_samples_split=15, n_estimators=1000 ......\n",
      "[CV]  max_features=log2, min_samples_split=15, n_estimators=1000, score=0.634812 -   9.9s\n",
      "[CV] max_features=log2, min_samples_split=15, n_estimators=1000 ......\n",
      "[CV]  max_features=log2, min_samples_split=15, n_estimators=1000, score=0.631823 -   9.7s\n",
      "[CV]  max_features=log2, min_samples_split=15, n_estimators=1000, score=0.668942 -   9.4s\n",
      "[CV]  max_features=log2, min_samples_split=15, n_estimators=1000, score=0.620609 -   9.5s\n",
      "[CV]  max_features=log2, min_samples_split=15, n_estimators=1000, score=0.580046 -   9.8s\n",
      "[CV]  max_features=log2, min_samples_split=15, n_estimators=1000, score=0.632184 -   9.8s\n",
      "[CV]  max_features=log2, min_samples_split=15, n_estimators=1000, score=0.665914 -   9.8s\n",
      "[CV]  max_features=log2, min_samples_split=15, n_estimators=1000, score=0.646370 -   7.1s\n",
      "[CV]  max_features=log2, min_samples_split=15, n_estimators=1000, score=0.587678 -   8.5s\n"
     ]
    },
    {
     "name": "stderr",
     "output_type": "stream",
     "text": [
      "[Parallel(n_jobs=-1)]: Done 320 out of 320 | elapsed:  4.7min finished\n"
     ]
    },
    {
     "name": "stdout",
     "output_type": "stream",
     "text": [
      "Fitting 10 folds for each of 4 candidates, totalling 40 fits\n",
      "[CV] min_samples_split=7 .............................................\n",
      "[CV] min_samples_split=7 .............................................\n",
      "[CV] min_samples_split=7 .............................................\n",
      "[CV] min_samples_split=7 .............................................\n",
      "[CV] min_samples_split=7 .............................................\n",
      "[CV] .................... min_samples_split=7, score=0.634921 -   0.0s\n",
      "[CV] .................... min_samples_split=7, score=0.639080 -   0.0s\n",
      "[CV] min_samples_split=7 .............................................\n",
      "[CV] .................... min_samples_split=7, score=0.631823 -   0.0s\n",
      "[CV] min_samples_split=7 .............................................\n",
      "[CV] min_samples_split=7 .............................................\n",
      "[CV] min_samples_split=7 .............................................\n",
      "[CV] .................... min_samples_split=7, score=0.668942 -   0.0s\n",
      "[CV] .................... min_samples_split=7, score=0.620447 -   0.0s\n",
      "[CV] min_samples_split=7 .............................................\n",
      "[CV] .................... min_samples_split=7, score=0.586002 -   0.0s\n",
      "[CV] min_samples_split=11 ............................................\n",
      "[CV] min_samples_split=11 ............................................\n",
      "[CV] min_samples_split=11 ............................................\n",
      "[CV] .................... min_samples_split=7, score=0.575406 -   0.0s\n",
      "[CV] .................... min_samples_split=7, score=0.667418 -   0.0s\n",
      "[CV] .................... min_samples_split=7, score=0.632302 -   0.0s\n",
      "[CV] .................... min_samples_split=7, score=0.644028 -   0.0s\n",
      "[CV] ................... min_samples_split=11, score=0.639080 -   0.0s\n",
      "[CV] min_samples_split=11 ............................................\n",
      "[CV] min_samples_split=11 ............................................\n",
      "[CV] ................... min_samples_split=11, score=0.631090 -   0.0s\n",
      "[CV] ................... min_samples_split=11, score=0.634921 -   0.0s\n",
      "[CV] min_samples_split=11 ............................................\n",
      "[CV] ................... min_samples_split=11, score=0.669694 -   0.0s\n",
      "[CV] min_samples_split=11 ............................................\n",
      "[CV] ................... min_samples_split=11, score=0.620447 -   0.0s\n",
      "[CV] ................... min_samples_split=11, score=0.575406 -   0.0s\n",
      "[CV] min_samples_split=15 ............................................\n",
      "[CV] ................... min_samples_split=11, score=0.631579 -   0.0s\n",
      "[CV] min_samples_split=11 ............................................\n",
      "[CV] ................... min_samples_split=15, score=0.632537 -   0.0s\n",
      "[CV] min_samples_split=15 ............................................\n",
      "[CV] ................... min_samples_split=11, score=0.666667 -   0.0s\n",
      "[CV] min_samples_split=11 ............................................\n",
      "[CV] ................... min_samples_split=15, score=0.636884 -   0.0s\n",
      "[CV] min_samples_split=15 ............................................\n",
      "[CV] ................... min_samples_split=11, score=0.583630 -   0.0s\n",
      "[CV] min_samples_split=11 ............................................\n",
      "[CV] ................... min_samples_split=15, score=0.629501 -   0.0s\n",
      "[CV] min_samples_split=15 ............................................\n",
      "[CV] ................... min_samples_split=11, score=0.643275 -   0.0s\n",
      "[CV] min_samples_split=13 ............................................\n",
      "[CV] ................... min_samples_split=15, score=0.667423 -   0.0s\n",
      "[CV] min_samples_split=15 ............................................\n",
      "[CV] ................... min_samples_split=13, score=0.632537 -   0.0s\n",
      "[CV] min_samples_split=13 ............................................\n",
      "[CV] ................... min_samples_split=15, score=0.619718 -   0.0s\n",
      "[CV] min_samples_split=15 ............................................\n",
      "[CV] ................... min_samples_split=13, score=0.636884 -   0.0s\n",
      "[CV] min_samples_split=13 ............................................\n",
      "[CV] ................... min_samples_split=15, score=0.576074 -   0.0s\n",
      "[CV] min_samples_split=15 ............................................\n",
      "[CV] ................... min_samples_split=13, score=0.630233 -   0.0s\n",
      "[CV] min_samples_split=13 ............................................\n",
      "[CV] ................... min_samples_split=15, score=0.627586 -   0.0s\n",
      "[CV] min_samples_split=15 ............................................\n",
      "[CV] ................... min_samples_split=13, score=0.667423 -   0.0s\n",
      "[CV] min_samples_split=13 ............................................\n",
      "[CV] ................... min_samples_split=15, score=0.665163 -   0.0s\n",
      "[CV] min_samples_split=15 ............................................\n",
      "[CV] ................... min_samples_split=13, score=0.619718 -   0.0s\n",
      "[CV] min_samples_split=13 ............................................\n",
      "[CV] ................... min_samples_split=15, score=0.584323 -   0.0s\n",
      "[CV] min_samples_split=15 ............................................\n",
      "[CV] ................... min_samples_split=13, score=0.574739 -   0.0s\n",
      "[CV] min_samples_split=13 ............................................\n",
      "[CV] ................... min_samples_split=15, score=0.643192 -   0.0s\n",
      "[CV] ................... min_samples_split=13, score=0.626866 -   0.0s\n",
      "[CV] min_samples_split=13 ............................................\n",
      "[CV] ................... min_samples_split=13, score=0.665163 -   0.0s\n",
      "[CV] min_samples_split=13 ............................................\n",
      "[CV] ................... min_samples_split=13, score=0.584323 -   0.0s\n",
      "[CV] min_samples_split=13 ............................................\n",
      "[CV] ................... min_samples_split=13, score=0.643192 -   0.0s\n"
     ]
    },
    {
     "name": "stderr",
     "output_type": "stream",
     "text": [
      "[Parallel(n_jobs=-1)]: Done  11 out of  40 | elapsed:    0.1s remaining:    0.2s\n",
      "[Parallel(n_jobs=-1)]: Done  40 out of  40 | elapsed:    0.2s finished\n"
     ]
    },
    {
     "data": {
      "image/png": "[encoded data removed]",
      "text/plain": [
       "<matplotlib.figure.Figure at 0x7f2552f3d6d8>"
      ]
     },
     "metadata": {},
     "output_type": "display_data"
    },
    {
     "data": {
      "image/png": "[encoded data removed]",
      "text/plain": [
       "<matplotlib.figure.Figure at 0x7f2551898e10>"
      ]
     },
     "metadata": {},
     "output_type": "display_data"
    },
    {
     "name": "stderr",
     "output_type": "stream",
     "text": [
      "/home/abraham/anaconda3/lib/python3.6/site-packages/sklearn/preprocessing/label.py:111: DataConversionWarning: A column-vector y was passed when a 1d array was expected. Please change the shape of y to (n_samples, ), for example using ravel().\n",
      "  y = column_or_1d(y, warn=True)\n"
     ]
    },
    {
     "data": {
      "image/png": "[encoded data removed]",
      "text/plain": [
       "<matplotlib.figure.Figure at 0x7f2552faefd0>"
      ]
     },
     "metadata": {},
     "output_type": "display_data"
    },
    {
     "name": "stdout",
     "output_type": "stream",
     "text": [
      "Mejor modelo fue: RandomForestClassifier(bootstrap=True, class_weight=None, criterion='gini',\n",
      "            max_depth=None, max_features='log2', max_leaf_nodes=None,\n",
      "            min_impurity_decrease=0.0, min_impurity_split=None,\n",
      "            min_samples_leaf=1, min_samples_split=7,\n",
      "            min_weight_fraction_leaf=0.0, n_estimators=700, n_jobs=1,\n",
      "            oob_score=False, random_state=None, verbose=0,\n",
      "            warm_start=False)\n"
     ]
    },
    {
     "data": {
      "text/plain": [
       "RandomForestClassifier(bootstrap=True, class_weight=None, criterion='gini',\n",
       "            max_depth=None, max_features='log2', max_leaf_nodes=None,\n",
       "            min_impurity_decrease=0.0, min_impurity_split=None,\n",
       "            min_samples_leaf=1, min_samples_split=7,\n",
       "            min_weight_fraction_leaf=0.0, n_estimators=700, n_jobs=1,\n",
       "            oob_score=False, random_state=None, verbose=0,\n",
       "            warm_start=False)"
      ]
     },
     "execution_count": 17,
     "metadata": {},
     "output_type": "execute_result"
    }
   ],
   "source": [
    "magic_loop(trX_train, y_train)"
   ]
  },
  {
   "cell_type": "code",
   "execution_count": 156,
   "metadata": {
    "collapsed": false
   },
   "outputs": [
    {
     "name": "stderr",
     "output_type": "stream",
     "text": [
      "/home/abraham/anaconda3/lib/python3.6/site-packages/sklearn/preprocessing/label.py:111: DataConversionWarning: A column-vector y was passed when a 1d array was expected. Please change the shape of y to (n_samples, ), for example using ravel().\n",
      "  y = column_or_1d(y, warn=True)\n"
     ]
    },
    {
     "data": {
      "text/plain": [
       "array([['>50K'],\n",
       "       ['<=50K'],\n",
       "       ['<=50K'],\n",
       "       ..., \n",
       "       ['<=50K'],\n",
       "       ['<=50K'],\n",
       "       ['<=50K']], dtype=object)"
      ]
     },
     "execution_count": 156,
     "metadata": {},
     "output_type": "execute_result"
    }
   ],
   "source": [
    "y_newt=LabelEncoder().fit_transform(y_train)\n",
    "y_newt"
   ]
  },
  {
   "cell_type": "markdown",
   "metadata": {},
   "source": [
    "**Evaluación off-line ocupa el F1-score como medida de evaluación de desempeño de los modelos**\n",
    "\n",
    "sobre los datos de test probamos"
   ]
  },
  {
   "cell_type": "code",
   "execution_count": 162,
   "metadata": {
    "collapsed": false
   },
   "outputs": [],
   "source": [
    "mypars=params[0]\n",
    "mypars2=params[1]"
   ]
  },
  {
   "cell_type": "code",
   "execution_count": 163,
   "metadata": {
    "collapsed": false
   },
   "outputs": [
    {
     "name": "stderr",
     "output_type": "stream",
     "text": [
      "/home/abraham/anaconda3/lib/python3.6/site-packages/ipykernel/__main__.py:4: DataConversionWarning: A column-vector y was passed when a 1d array was expected. Please change the shape of y to (n_samples,), for example using ravel().\n"
     ]
    },
    {
     "data": {
      "text/plain": [
       "RandomForestClassifier(bootstrap=True, class_weight=None, criterion='gini',\n",
       "            max_depth=None, max_features='log2', max_leaf_nodes=15,\n",
       "            min_impurity_decrease=0.0, min_impurity_split=None,\n",
       "            min_samples_leaf=1, min_samples_split=2,\n",
       "            min_weight_fraction_leaf=0.0, n_estimators=1000, n_jobs=1,\n",
       "            oob_score=False, random_state=None, verbose=0,\n",
       "            warm_start=False)"
      ]
     },
     "execution_count": 163,
     "metadata": {},
     "output_type": "execute_result"
    }
   ],
   "source": [
    "def compara():\n",
    "    RF=RandomForestClassifier(max_features=mypars['max_features'], max_leaf_nodes=mypars['max_leaf_nodes'],\n",
    "                          n_estimators=mypars['n_estimators'])\n",
    "    RF.fit(trX_train, y_train) \n",
    "    pred=RF.predict(trx_test)\n",
    "    frf=f1_score(y_test,pred,labels='>50K', pos_label='>50K')\n",
    "    red_probs = clf.fit(X_train, y_train).predict_proba(X_test)[:,1]\n",
    "                    logger.debug(precision_at_k(y_test,y_pred_probs,.05))\n",
    "                    plot_precision_recall_n(y_test,y_pred_probs,clf)\n",
    "                except IndexError as e:\n",
    "                    print('Error:', e)\n",
    "                    continue\n",
    "\n",
    "    DT=\n",
    "    DT.fit(trX_train, y_train)\n",
    "    pred2=RF.predict(trx_test)\n",
    "    fdt=f1_score(y_test,pred2,labels='>50K', pos_label='>50K')\n",
    "    if(fdt>frf):\n",
    "        model=DT\n",
    "    else:\n",
    "        model=RF\n",
    "    return(model)    \n",
    "compara()    "
   ]
  },
  {
   "cell_type": "code",
   "execution_count": 263,
   "metadata": {
    "collapsed": false
   },
   "outputs": [
    {
     "data": {
      "image/png": "[encoded data removed]",
      "text/plain": [
       "<matplotlib.figure.Figure at 0x7f23b3fe9fd0>"
      ]
     },
     "metadata": {},
     "output_type": "display_data"
    },
    {
     "data": {
      "image/png": "[encoded data removed]",
      "text/plain": [
       "<matplotlib.figure.Figure at 0x7f23b3f685f8>"
      ]
     },
     "metadata": {},
     "output_type": "display_data"
    },
    {
     "name": "stderr",
     "output_type": "stream",
     "text": [
      "/home/abraham/anaconda3/lib/python3.6/site-packages/sklearn/preprocessing/label.py:111: DataConversionWarning: A column-vector y was passed when a 1d array was expected. Please change the shape of y to (n_samples, ), for example using ravel().\n",
      "  y = column_or_1d(y, warn=True)\n"
     ]
    },
    {
     "data": {
      "text/plain": [
       "([array([ 0.75765   ,  0.46451161,  2.07000804,  1.91216429,  0.35627589,\n",
       "          0.15784375,  1.69118304,  1.28980893,  0.32019732,  1.59647679]),\n",
       "  array([  6.53288659e+00,   1.18259135e+00,   1.57774294e+00,\n",
       "           8.27527602e-01,   5.29732202e-02,   1.00219606e-02,\n",
       "           3.12112487e-01,   1.13104984e-01,   2.86341731e-03,\n",
       "           4.29512596e-03])],\n",
       " array([ 0.03748912,  0.1316855 ,  0.22588188,  0.32007825,  0.41427463,\n",
       "         0.508471  ,  0.60266738,  0.69686376,  0.79106013,  0.88525651,\n",
       "         0.97945288]),\n",
       " <a list of 2 Lists of Patches objects>)"
      ]
     },
     "execution_count": 263,
     "metadata": {},
     "output_type": "execute_result"
    },
    {
     "data": {
      "image/png": "[encoded data removed]",
      "text/plain": [
       "<matplotlib.figure.Figure at 0x7f23b3f5bb70>"
      ]
     },
     "metadata": {},
     "output_type": "display_data"
    }
   ],
   "source": [
    "from sklearn.metrics import roc_auc_score, auc,precision_recall_curve\n",
    "from sklearn.metrics import roc_curve,average_precision_score\n",
    "fpr, tpr, thresholds=roc_curve(y_test,win.predict_proba(trx_test)[:,1],pos_label='>50K')\n",
    "win_auc=auc(fpr,tpr)\n",
    "plt.figure()\n",
    "plt.plot(fpr, tpr, label='ROC win (area = %0.2f)' % win_auc)\n",
    "plt.plot([0, 1], [0, 1], 'k--')\n",
    "plt.xlim([0.0, 1.0])\n",
    "plt.ylim([0.0, 1.05])\n",
    "plt.xlabel('False Positive Rate')\n",
    "plt.ylabel('True Positive Rate')\n",
    "plt.title('Receiver operating characteristic example')\n",
    "plt.legend(loc=\"lower right\")\n",
    "plt.show()\n",
    "\n",
    "\n",
    "\n",
    "precision, recall, _ = precision_recall_curve(y_test, win.predict_proba(trx_test)[:,1],pos_label='>50K')\n",
    "\n",
    "plt.step(recall, precision, color='b', alpha=0.2,\n",
    "         where='post')\n",
    "plt.fill_between(recall, precision, step='post', alpha=0.2,\n",
    "                 color='b')\n",
    "\n",
    "plt.xlabel('Recall')\n",
    "plt.ylabel('Precision')\n",
    "plt.ylim([0.0, 1.05])\n",
    "plt.xlim([0.0, 1.0])\n",
    "plt.title('Precision-Recall curve')\n",
    "plt.show()\n",
    "\n",
    "\n",
    "\n",
    "yy=LabelEncoder().fit_transform(y_test)\n",
    "x1=xx[np.where(yy==1)]\n",
    "x2=xx[np.where(yy==0)]\n",
    "plt.hist([x1, x2], color=['r','b'], alpha=0.5,normed=True,histtype='stepfilled')"
   ]
  },
  {
   "cell_type": "code",
   "execution_count": 264,
   "metadata": {
    "collapsed": false
   },
   "outputs": [
    {
     "data": {
      "text/plain": [
       "0.88342434879354859"
      ]
     },
     "execution_count": 264,
     "metadata": {},
     "output_type": "execute_result"
    }
   ],
   "source": [
    "auc(fpr,tpr)"
   ]
  },
  {
   "cell_type": "code",
   "execution_count": 164,
   "metadata": {
    "collapsed": false
   },
   "outputs": [
    {
     "name": "stderr",
     "output_type": "stream",
     "text": [
      "/home/abraham/anaconda3/lib/python3.6/site-packages/ipykernel/__main__.py:4: DataConversionWarning: A column-vector y was passed when a 1d array was expected. Please change the shape of y to (n_samples,), for example using ravel().\n",
      "/home/abraham/anaconda3/lib/python3.6/site-packages/ipykernel/__main__.py:3: DataConversionWarning: A column-vector y was passed when a 1d array was expected. Please change the shape of y to (n_samples,), for example using ravel().\n",
      "  app.launch_new_instance()\n"
     ]
    },
    {
     "name": "stdout",
     "output_type": "stream",
     "text": [
      "             precision    recall  f1-score   support\n",
      "\n",
      "      <=50K       0.85      0.96      0.90      7415\n",
      "       >50K       0.78      0.48      0.59      2354\n",
      "\n",
      "avg / total       0.84      0.84      0.83      9769\n",
      "\n",
      "[[7103  312]\n",
      " [1233 1121]]\n"
     ]
    }
   ],
   "source": [
    "from sklearn.metrics import classification_report, f1_score, accuracy_score, confusion_matrix\n",
    "win=compara()\n",
    "win.fit(trX_train, y_train) \n",
    "pred=win.predict(trx_test) \n",
    "from sklearn.metrics import classification_report,confusion_matrix \n",
    "print(classification_report(y_test,pred))\n",
    "print(confusion_matrix(y_test,pred))"
   ]
  },
  {
   "cell_type": "code",
   "execution_count": 24,
   "metadata": {
    "collapsed": false
   },
   "outputs": [
    {
     "ename": "TypeError",
     "evalue": "All intermediate steps should be transformers and implement fit and transform. 'RandomForestClassifier(bootstrap=True, class_weight=None, criterion='gini',\n            max_depth=None, max_features='auto', max_leaf_nodes=None,\n            min_impurity_decrease=0.0, min_impurity_split=None,\n            min_samples_leaf=1, min_samples_split=2,\n            min_weight_fraction_leaf=0.0, n_estimators=10, n_jobs=-1,\n            oob_score=False, random_state=None, verbose=0,\n            warm_start=False)' (type <class 'sklearn.ensemble.forest.RandomForestClassifier'>) doesn't",
     "output_type": "error",
     "traceback": [
      "\u001b[0;31m---------------------------------------------------------------------------\u001b[0m",
      "\u001b[0;31mTypeError\u001b[0m                                 Traceback (most recent call last)",
      "\u001b[0;32m<ipython-input-24-63cc20ed9eb3>\u001b[0m in \u001b[0;36m<module>\u001b[0;34m()\u001b[0m\n\u001b[1;32m      2\u001b[0m \u001b[0mrf\u001b[0m\u001b[0;34m=\u001b[0m\u001b[0mRandomForestClassifier\u001b[0m\u001b[0;34m(\u001b[0m\u001b[0mn_jobs\u001b[0m\u001b[0;34m=\u001b[0m\u001b[0;34m-\u001b[0m\u001b[0;36m1\u001b[0m\u001b[0;34m)\u001b[0m\u001b[0;34m\u001b[0m\u001b[0m\n\u001b[1;32m      3\u001b[0m \u001b[0;34m\u001b[0m\u001b[0m\n\u001b[0;32m----> 4\u001b[0;31m \u001b[0mpipex\u001b[0m\u001b[0;34m=\u001b[0m\u001b[0mmake_pipeline\u001b[0m\u001b[0;34m(\u001b[0m\u001b[0mrf\u001b[0m\u001b[0;34m,\u001b[0m\u001b[0mdt\u001b[0m\u001b[0;34m)\u001b[0m\u001b[0;34m\u001b[0m\u001b[0m\n\u001b[0m",
      "\u001b[0;32m/home/abraham/anaconda3/lib/python3.6/site-packages/sklearn/pipeline.py\u001b[0m in \u001b[0;36mmake_pipeline\u001b[0;34m(*steps, **kwargs)\u001b[0m\n\u001b[1;32m    569\u001b[0m         raise TypeError('Unknown keyword arguments: \"{}\"'\n\u001b[1;32m    570\u001b[0m                         .format(list(kwargs.keys())[0]))\n\u001b[0;32m--> 571\u001b[0;31m     \u001b[0;32mreturn\u001b[0m \u001b[0mPipeline\u001b[0m\u001b[0;34m(\u001b[0m\u001b[0m_name_estimators\u001b[0m\u001b[0;34m(\u001b[0m\u001b[0msteps\u001b[0m\u001b[0;34m)\u001b[0m\u001b[0;34m,\u001b[0m \u001b[0mmemory\u001b[0m\u001b[0;34m=\u001b[0m\u001b[0mmemory\u001b[0m\u001b[0;34m)\u001b[0m\u001b[0;34m\u001b[0m\u001b[0m\n\u001b[0m\u001b[1;32m    572\u001b[0m \u001b[0;34m\u001b[0m\u001b[0m\n\u001b[1;32m    573\u001b[0m \u001b[0;34m\u001b[0m\u001b[0m\n",
      "\u001b[0;32m/home/abraham/anaconda3/lib/python3.6/site-packages/sklearn/pipeline.py\u001b[0m in \u001b[0;36m__init__\u001b[0;34m(self, steps, memory)\u001b[0m\n\u001b[1;32m    114\u001b[0m         \u001b[0;31m# shallow copy of steps\u001b[0m\u001b[0;34m\u001b[0m\u001b[0;34m\u001b[0m\u001b[0m\n\u001b[1;32m    115\u001b[0m         \u001b[0mself\u001b[0m\u001b[0;34m.\u001b[0m\u001b[0msteps\u001b[0m \u001b[0;34m=\u001b[0m \u001b[0mtosequence\u001b[0m\u001b[0;34m(\u001b[0m\u001b[0msteps\u001b[0m\u001b[0;34m)\u001b[0m\u001b[0;34m\u001b[0m\u001b[0m\n\u001b[0;32m--> 116\u001b[0;31m         \u001b[0mself\u001b[0m\u001b[0;34m.\u001b[0m\u001b[0m_validate_steps\u001b[0m\u001b[0;34m(\u001b[0m\u001b[0;34m)\u001b[0m\u001b[0;34m\u001b[0m\u001b[0m\n\u001b[0m\u001b[1;32m    117\u001b[0m         \u001b[0mself\u001b[0m\u001b[0;34m.\u001b[0m\u001b[0mmemory\u001b[0m \u001b[0;34m=\u001b[0m \u001b[0mmemory\u001b[0m\u001b[0;34m\u001b[0m\u001b[0m\n\u001b[1;32m    118\u001b[0m \u001b[0;34m\u001b[0m\u001b[0m\n",
      "\u001b[0;32m/home/abraham/anaconda3/lib/python3.6/site-packages/sklearn/pipeline.py\u001b[0m in \u001b[0;36m_validate_steps\u001b[0;34m(self)\u001b[0m\n\u001b[1;32m    162\u001b[0m                 raise TypeError(\"All intermediate steps should be \"\n\u001b[1;32m    163\u001b[0m                                 \u001b[0;34m\"transformers and implement fit and transform.\"\u001b[0m\u001b[0;34m\u001b[0m\u001b[0m\n\u001b[0;32m--> 164\u001b[0;31m                                 \" '%s' (type %s) doesn't\" % (t, type(t)))\n\u001b[0m\u001b[1;32m    165\u001b[0m \u001b[0;34m\u001b[0m\u001b[0m\n\u001b[1;32m    166\u001b[0m         \u001b[0;31m# We allow last estimator to be None as an identity transformation\u001b[0m\u001b[0;34m\u001b[0m\u001b[0;34m\u001b[0m\u001b[0m\n",
      "\u001b[0;31mTypeError\u001b[0m: All intermediate steps should be transformers and implement fit and transform. 'RandomForestClassifier(bootstrap=True, class_weight=None, criterion='gini',\n            max_depth=None, max_features='auto', max_leaf_nodes=None,\n            min_impurity_decrease=0.0, min_impurity_split=None,\n            min_samples_leaf=1, min_samples_split=2,\n            min_weight_fraction_leaf=0.0, n_estimators=10, n_jobs=-1,\n            oob_score=False, random_state=None, verbose=0,\n            warm_start=False)' (type <class 'sklearn.ensemble.forest.RandomForestClassifier'>) doesn't"
     ]
    }
   ],
   "source": [
    "dt=DecisionTreeClassifier()\n",
    "rf=RandomForestClassifier(n_jobs=-1)\n",
    "\n",
    "pipex=make_pipeline(rf,dt)"
   ]
  },
  {
   "cell_type": "code",
   "execution_count": 32,
   "metadata": {
    "collapsed": false
   },
   "outputs": [],
   "source": [
    "import logging\n",
    "logger = logging.getLogger(__name__)\n",
    "def magic_loopxx(models_to_run, clfs, grid, X, y):\n",
    "    for n in range(1, 2):\n",
    "        X_train, X_test, y_train, y_test = train_test_split(X, y, test_size=0.2, random_state=0)\n",
    "        for index, clf in enumerate([clfs[x] for x in models_to_run]):\n",
    "            logger.debug(models_to_run[index])\n",
    "            parameter_values = grid[models_to_run[index]]\n",
    "            for p in ParameterGrid(parameter_values):\n",
    "                try:\n",
    "                    clf.set_params(**p)\n",
    "                    logger.debug(clf)\n",
    "                    y_pred_probs = clf.fit(X_train, y_train).predict_proba(X_test)[:,1]\n",
    "                    logger.debug(precision_at_k(y_test,y_pred_probs,.05))\n",
    "                    plot_precision_recall_n(y_test,y_pred_probs,clf)\n",
    "                except IndexError as e:\n",
    "                    print('Error:', e)\n",
    "                    continue\n",
    "\n",
    "def precision_at_k(y_true, y_scores, k):\n",
    "    threshold = np.sort(y_scores)[::-1][int(k*len(y_scores))]\n",
    "    y_pred = np.asarray([1 if i >= threshold else 0 for i in y_scores])\n",
    "    return precision_score(y_true, y_pred)"
   ]
  },
  {
   "cell_type": "code",
   "execution_count": 33,
   "metadata": {
    "collapsed": true
   },
   "outputs": [],
   "source": [
    "def plot_precision_recall_n(y_true, y_prob, model_name, output_type):\n",
    "    from sklearn.metrics import precision_recall_curve\n",
    "    y_score = y_prob\n",
    "    precision_curve, recall_curve, pr_thresholds = precision_recall_curve(y_true, y_score)\n",
    "    precision_curve = precision_curve[:-1]\n",
    "    recall_curve = recall_curve[:-1]\n",
    "    pct_above_per_thresh = []\n",
    "    number_scored = len(y_score)\n",
    "    for value in pr_thresholds:\n",
    "        num_above_thresh = len(y_score[y_score>=value])\n",
    "        pct_above_thresh = num_above_thresh / float(number_scored)\n",
    "        pct_above_per_thresh.append(pct_above_thresh)\n",
    "    pct_above_per_thresh = np.array(pct_above_per_thresh)"
   ]
  },
  {
   "cell_type": "code",
   "execution_count": 34,
   "metadata": {
    "collapsed": false
   },
   "outputs": [
    {
     "name": "stderr",
     "output_type": "stream",
     "text": [
      "/home/abraham/anaconda3/lib/python3.6/site-packages/sklearn/preprocessing/label.py:111: DataConversionWarning: A column-vector y was passed when a 1d array was expected. Please change the shape of y to (n_samples, ), for example using ravel().\n",
      "  y = column_or_1d(y, warn=True)\n"
     ]
    },
    {
     "ename": "TypeError",
     "evalue": "plot_precision_recall_n() missing 1 required positional argument: 'output_type'",
     "output_type": "error",
     "traceback": [
      "\u001b[0;31m---------------------------------------------------------------------------\u001b[0m",
      "\u001b[0;31mTypeError\u001b[0m                                 Traceback (most recent call last)",
      "\u001b[0;32m<ipython-input-34-b72e51790371>\u001b[0m in \u001b[0;36m<module>\u001b[0;34m()\u001b[0m\n\u001b[1;32m      3\u001b[0m \u001b[0my_newt\u001b[0m\u001b[0;34m=\u001b[0m\u001b[0mLabelEncoder\u001b[0m\u001b[0;34m(\u001b[0m\u001b[0;34m)\u001b[0m\u001b[0;34m.\u001b[0m\u001b[0mfit_transform\u001b[0m\u001b[0;34m(\u001b[0m\u001b[0my_train\u001b[0m\u001b[0;34m)\u001b[0m\u001b[0;34m\u001b[0m\u001b[0m\n\u001b[1;32m      4\u001b[0m \u001b[0;32mfrom\u001b[0m \u001b[0msklearn\u001b[0m\u001b[0;34m.\u001b[0m\u001b[0mmodel_selection\u001b[0m \u001b[0;32mimport\u001b[0m \u001b[0mParameterGrid\u001b[0m\u001b[0;34m\u001b[0m\u001b[0m\n\u001b[0;32m----> 5\u001b[0;31m \u001b[0mmagic_loopxx\u001b[0m\u001b[0;34m(\u001b[0m\u001b[0mmodels_to_run\u001b[0m\u001b[0;34m,\u001b[0m \u001b[0mclfs\u001b[0m\u001b[0;34m,\u001b[0m \u001b[0mgrid\u001b[0m\u001b[0;34m,\u001b[0m \u001b[0mtrX_train\u001b[0m\u001b[0;34m,\u001b[0m \u001b[0my_newt\u001b[0m\u001b[0;34m)\u001b[0m\u001b[0;34m\u001b[0m\u001b[0m\n\u001b[0m",
      "\u001b[0;32m<ipython-input-32-b443141f9de8>\u001b[0m in \u001b[0;36mmagic_loopxx\u001b[0;34m(models_to_run, clfs, grid, X, y)\u001b[0m\n\u001b[1;32m     13\u001b[0m                     \u001b[0my_pred_probs\u001b[0m \u001b[0;34m=\u001b[0m \u001b[0mclf\u001b[0m\u001b[0;34m.\u001b[0m\u001b[0mfit\u001b[0m\u001b[0;34m(\u001b[0m\u001b[0mX_train\u001b[0m\u001b[0;34m,\u001b[0m \u001b[0my_train\u001b[0m\u001b[0;34m)\u001b[0m\u001b[0;34m.\u001b[0m\u001b[0mpredict_proba\u001b[0m\u001b[0;34m(\u001b[0m\u001b[0mX_test\u001b[0m\u001b[0;34m)\u001b[0m\u001b[0;34m[\u001b[0m\u001b[0;34m:\u001b[0m\u001b[0;34m,\u001b[0m\u001b[0;36m1\u001b[0m\u001b[0;34m]\u001b[0m\u001b[0;34m\u001b[0m\u001b[0m\n\u001b[1;32m     14\u001b[0m                     \u001b[0mlogger\u001b[0m\u001b[0;34m.\u001b[0m\u001b[0mdebug\u001b[0m\u001b[0;34m(\u001b[0m\u001b[0mprecision_at_k\u001b[0m\u001b[0;34m(\u001b[0m\u001b[0my_test\u001b[0m\u001b[0;34m,\u001b[0m\u001b[0my_pred_probs\u001b[0m\u001b[0;34m,\u001b[0m\u001b[0;36m.05\u001b[0m\u001b[0;34m)\u001b[0m\u001b[0;34m)\u001b[0m\u001b[0;34m\u001b[0m\u001b[0m\n\u001b[0;32m---> 15\u001b[0;31m                     \u001b[0mplot_precision_recall_n\u001b[0m\u001b[0;34m(\u001b[0m\u001b[0my_test\u001b[0m\u001b[0;34m,\u001b[0m\u001b[0my_pred_probs\u001b[0m\u001b[0;34m,\u001b[0m\u001b[0mclf\u001b[0m\u001b[0;34m)\u001b[0m\u001b[0;34m\u001b[0m\u001b[0m\n\u001b[0m\u001b[1;32m     16\u001b[0m                 \u001b[0;32mexcept\u001b[0m \u001b[0mIndexError\u001b[0m \u001b[0;32mas\u001b[0m \u001b[0me\u001b[0m\u001b[0;34m:\u001b[0m\u001b[0;34m\u001b[0m\u001b[0m\n\u001b[1;32m     17\u001b[0m                     \u001b[0mprint\u001b[0m\u001b[0;34m(\u001b[0m\u001b[0;34m'Error:'\u001b[0m\u001b[0;34m,\u001b[0m \u001b[0me\u001b[0m\u001b[0;34m)\u001b[0m\u001b[0;34m\u001b[0m\u001b[0m\n",
      "\u001b[0;31mTypeError\u001b[0m: plot_precision_recall_n() missing 1 required positional argument: 'output_type'"
     ]
    }
   ],
   "source": [
    "models_to_run=['RF','DT']\n",
    "clfs,grid=define_hyper_params()\n",
    "y_newt=LabelEncoder().fit_transform(y_train)\n",
    "from sklearn.model_selection import ParameterGrid\n",
    "magic_loopxx(models_to_run, clfs, grid, trX_train, y_newt)"
   ]
  },
  {
   "cell_type": "code",
   "execution_count": null,
   "metadata": {
    "collapsed": false
   },
   "outputs": [],
   "source": []
  },
  {
   "cell_type": "code",
   "execution_count": null,
   "metadata": {
    "collapsed": true
   },
   "outputs": [],
   "source": []
  }
 ],
 "metadata": {
  "kernelspec": {
   "display_name": "Python 3",
   "language": "python",
   "name": "python3"
  },
  "language_info": {
   "codemirror_mode": {
    "name": "ipython",
    "version": 3
   },
   "file_extension": ".py",
   "mimetype": "text/x-python",
   "name": "python",
   "nbconvert_exporter": "python",
   "pygments_lexer": "ipython3",
   "version": "3.6.0"
  }
 },
 "nbformat": 4,
 "nbformat_minor": 2
}
